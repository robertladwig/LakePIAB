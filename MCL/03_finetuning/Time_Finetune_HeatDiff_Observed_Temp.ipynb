{
 "cells": [
  {
   "cell_type": "markdown",
   "metadata": {},
   "source": [
    "## Does not make sense\n",
    "\n",
    "Cannot be finetuned with all 4 losses. The term 1 and term 4 are contradictory."
   ]
  },
  {
   "cell_type": "code",
   "execution_count": 1,
   "metadata": {},
   "outputs": [],
   "source": [
    "import numpy as np\n",
    "import pandas as pd\n",
    "import random\n",
    "\n",
    "import torch\n",
    "import torch.nn as nn\n",
    "import torch.nn.functional as F\n",
    "\n",
    "import seaborn as sns\n",
    "import matplotlib.pyplot as plt\n",
    "import os\n",
    "\n",
    "from sklearn.model_selection import train_test_split\n",
    "from sklearn.preprocessing import StandardScaler\n",
    "from collections import OrderedDict\n",
    "from tqdm import tqdm\n",
    "\n",
    "import warnings\n",
    "warnings.filterwarnings(\"ignore\")"
   ]
  },
  {
   "cell_type": "code",
   "execution_count": 2,
   "metadata": {},
   "outputs": [
    {
     "name": "stdout",
     "output_type": "stream",
     "text": [
      "cpu\n"
     ]
    }
   ],
   "source": [
    "# CUDA support \n",
    "if torch.cuda.is_available():\n",
    "    device = torch.device('cuda:5')\n",
    "else:\n",
    "    device = torch.device('cpu')\n",
    "    \n",
    "print(device)\n",
    "device = torch.device('cpu')"
   ]
  },
  {
   "cell_type": "code",
   "execution_count": 3,
   "metadata": {},
   "outputs": [],
   "source": [
    "# the deep neural network\n",
    "class MLP(torch.nn.Module):\n",
    "    def __init__(self, layers, activation=\"relu\", init=\"xavier\"):\n",
    "        super(MLP, self).__init__()\n",
    "        \n",
    "        # parameters\n",
    "        self.depth = len(layers) - 1\n",
    "        \n",
    "        if activation == \"relu\":\n",
    "            self.activation = torch.nn.ReLU()\n",
    "        elif activation == \"tanh\":\n",
    "            self.activation = torch.nn.Tanh()\n",
    "        elif activation == \"gelu\":\n",
    "            self.activation = torch.nn.GELU()\n",
    "        else:\n",
    "            raise ValueError(\"Unspecified activation type\")\n",
    "        \n",
    "        \n",
    "        layer_list = list()\n",
    "        for i in range(self.depth - 1): \n",
    "            layer_list.append(\n",
    "                ('layer_%d' % i, torch.nn.Linear(layers[i], layers[i+1]))\n",
    "            )\n",
    "            layer_list.append(('activation_%d' % i, self.activation))\n",
    "            \n",
    "        layer_list.append(\n",
    "            ('layer_%d' % (self.depth - 1), torch.nn.Linear(layers[-2], layers[-1]))\n",
    "        )\n",
    "        layerDict = OrderedDict(layer_list)\n",
    "        \n",
    "        # deploy layers\n",
    "        self.layers = torch.nn.Sequential(layerDict)\n",
    "\n",
    "        if init==\"xavier\":\n",
    "            self.xavier_init_weights()\n",
    "        elif init==\"kaiming\":\n",
    "            self.kaiming_init_weights()\n",
    "    \n",
    "    def xavier_init_weights(self):\n",
    "        with torch.no_grad():\n",
    "            print(\"Initializing Network with Xavier Initialization..\")\n",
    "            for m in self.layers.modules():\n",
    "                if hasattr(m, 'weight'):\n",
    "                    nn.init.xavier_uniform_(m.weight)\n",
    "                    m.bias.data.fill_(0.0)\n",
    "\n",
    "    def kaiming_init_weights(self):\n",
    "        with torch.no_grad():\n",
    "            print(\"Initializing Network with Kaiming Initialization..\")\n",
    "            for m in self.layers.modules():\n",
    "                if hasattr(m, 'weight'):\n",
    "                    nn.init.kaiming_uniform_(m.weight)\n",
    "                    m.bias.data.fill_(0.0)\n",
    "                        \n",
    "    def forward(self, x):\n",
    "        out = self.layers(x)\n",
    "        return out\n",
    "    \n",
    "class DataGenerator(torch.utils.data.Dataset):\n",
    "    def __init__(self, X):\n",
    "        self.X = X\n",
    "        \n",
    "    def __getitem__(self, index):\n",
    "        return self.X[index]\n",
    "    \n",
    "    def __len__(self):\n",
    "        return len(self.X)"
   ]
  },
  {
   "cell_type": "code",
   "execution_count": 4,
   "metadata": {},
   "outputs": [
    {
     "data": {
      "text/plain": [
       "<bound method NDFrame.head of         depth  AirTemp_degC  Longwave_Wm-2  Latent_Wm-2  Sensible_Wm-2  \\\n",
       "0           1     10.715021     695.937161   -56.268384     -23.291619   \n",
       "1           2     10.715021     695.937161   -56.268384     -23.291619   \n",
       "2           3     10.715021     695.937161   -56.268384     -23.291619   \n",
       "3           4     10.715021     695.937161   -56.268384     -23.291619   \n",
       "4           5     10.715021     695.937161   -56.268384     -23.291619   \n",
       "...       ...           ...            ...          ...            ...   \n",
       "141570     21     21.695001     832.055902   -93.493728     -12.091248   \n",
       "141571     22     21.695001     832.055902   -93.493728     -12.091248   \n",
       "141572     23     21.695001     832.055902   -93.493728     -12.091248   \n",
       "141573     24     21.695001     832.055902   -93.493728     -12.091248   \n",
       "141574     25     21.695001     832.055902   -93.493728     -12.091248   \n",
       "\n",
       "        Shortwave_Wm-2  lightExtinct_m-1  ShearVelocity_mS-1  \\\n",
       "0                  0.0          0.255324            1.085448   \n",
       "1                  0.0          0.255324            1.085448   \n",
       "2                  0.0          0.255324            1.085448   \n",
       "3                  0.0          0.255324            1.085448   \n",
       "4                  0.0          0.255324            1.085448   \n",
       "...                ...               ...                 ...   \n",
       "141570             0.0          1.162606            1.049822   \n",
       "141571             0.0          1.162606            1.049822   \n",
       "141572             0.0          1.162606            1.049822   \n",
       "141573             0.0          1.162606            1.049822   \n",
       "141574             0.0          1.162606            1.049822   \n",
       "\n",
       "        ShearStress_Nm-2     Area_m2  ...  buoyancy  diffusivity  temp_heat00  \\\n",
       "0               0.002290  36000000.0  ... -0.000006     0.000037    16.283408   \n",
       "1               0.002290  36000000.0  ... -0.000006     0.000037    16.283408   \n",
       "2               0.002290  36000000.0  ... -0.000007     0.000037    16.287068   \n",
       "3               0.002290  36000000.0  ...  0.000021     0.000037    16.291257   \n",
       "4               0.002290  36000000.0  ...  0.000180     0.000025    16.278268   \n",
       "...                  ...         ...  ...       ...          ...          ...   \n",
       "141570          0.002174  36000000.0  ...  0.000637     0.000014     8.537687   \n",
       "141571          0.002174  36000000.0  ...  0.000474     0.000016     7.466041   \n",
       "141572          0.002174  36000000.0  ...  0.000307     0.000020     6.396040   \n",
       "141573          0.002174  36000000.0  ...  0.000134     0.000028     5.326140   \n",
       "141574          0.002174  36000000.0  ...  0.000134     0.000028     4.256585   \n",
       "\n",
       "        temp_diff01  day_of_year  time_of_day  temp_mix02  temp_conv03  \\\n",
       "0         16.149422          155            1   16.206994    16.241692   \n",
       "1         16.267964          155            1   16.206994    16.247184   \n",
       "2         16.286071          155            1   16.286071    16.251763   \n",
       "3         16.288695          155            1   16.288695    16.251763   \n",
       "4         16.270156          155            1   16.270156    16.256606   \n",
       "...             ...          ...          ...         ...          ...   \n",
       "141570     8.537921          213           23    8.537921     8.537921   \n",
       "141571     7.466186          213           23    7.466186     7.466186   \n",
       "141572     6.396125          213           23    6.396125     6.396125   \n",
       "141573     5.326179          213           23    5.326179     5.326179   \n",
       "141574     4.256585          213           23    4.256585     4.256585   \n",
       "\n",
       "        obs_temp  input_obs  \n",
       "0         16.409     16.350  \n",
       "1         16.480     16.426  \n",
       "2         16.130     16.088  \n",
       "3         15.827     15.789  \n",
       "4         16.270     16.240  \n",
       "...          ...        ...  \n",
       "141570    11.673     11.673  \n",
       "141571    11.673     11.673  \n",
       "141572    11.673     11.673  \n",
       "141573    11.673     11.673  \n",
       "141574    11.673     11.673  \n",
       "\n",
       "[141575 rows x 22 columns]>"
      ]
     },
     "metadata": {},
     "output_type": "display_data"
    }
   ],
   "source": [
    "data_df = pd.read_csv(\"all_data_lake_modeling_in_time_wHeat.csv\")\n",
    "time = data_df['time']\n",
    "data_df = data_df.drop(columns=['time'])\n",
    "data_df\n",
    "display(data_df.head)"
   ]
  },
  {
   "cell_type": "code",
   "execution_count": 5,
   "metadata": {},
   "outputs": [
    {
     "name": "stdout",
     "output_type": "stream",
     "text": [
      "Number of days total: 5663\n",
      "Number of training points: 84925\n"
     ]
    }
   ],
   "source": [
    "training_frac = 0.60\n",
    "depth_steps = 25\n",
    "number_days = len(data_df)//depth_steps\n",
    "n_obs = int(number_days*training_frac)*depth_steps\n",
    "print(f\"Number of days total: {number_days}\")\n",
    "print(f\"Number of training points: {n_obs}\")"
   ]
  },
  {
   "cell_type": "markdown",
   "metadata": {},
   "source": [
    "# Normalizing Data"
   ]
  },
  {
   "cell_type": "code",
   "execution_count": 6,
   "metadata": {},
   "outputs": [],
   "source": [
    "data = data_df.values\n",
    "\n",
    "train_data = data[:n_obs]\n",
    "test_data = data[n_obs:]\n",
    "\n",
    "train_time = time[:n_obs]\n",
    "test_time = time[n_obs:]\n",
    "\n",
    "#performing normalization on all the columns\n",
    "scaler = StandardScaler()\n",
    "scaler.fit(train_data)\n",
    "train_data = scaler.transform(train_data)\n",
    "test_data = scaler.transform(test_data)"
   ]
  },
  {
   "cell_type": "code",
   "execution_count": 7,
   "metadata": {},
   "outputs": [],
   "source": [
    "m0_output_column_ix = [data_df.columns.get_loc(column) for column in ['temp_heat00']]"
   ]
  },
  {
   "cell_type": "markdown",
   "metadata": {},
   "source": [
    "# Loading Models"
   ]
  },
  {
   "cell_type": "code",
   "execution_count": 8,
   "metadata": {},
   "outputs": [
    {
     "name": "stdout",
     "output_type": "stream",
     "text": [
      "Initializing Network with Xavier Initialization..\n"
     ]
    }
   ],
   "source": [
    "m0_input_columns = ['depth', 'AirTemp_degC', 'Longwave_Wm-2', 'Latent_Wm-2', 'Sensible_Wm-2', 'Shortwave_Wm-2',\n",
    "                'lightExtinct_m-1','Area_m2', \n",
    "                 'day_of_year', 'time_of_day', 'input_temp']\n",
    "m0_output_columns = ['temp_heat00']\n",
    "\n",
    "m0_input_column_ix = [data_df.columns.get_loc(column) for column in m0_input_columns]\n",
    "m0_output_column_ix = [data_df.columns.get_loc(column) for column in m0_output_columns]\n",
    "\n",
    "m0_PATH =  f\"./saved_models/heating_model_time.pth\"\n",
    "m0_layers = [len(m0_input_columns), 32, 32, len(m0_output_columns)]\n",
    "\n",
    "heating_model = MLP(m0_layers, activation=\"gelu\")\n",
    "m0_checkpoint = torch.load(m0_PATH, map_location=torch.device('cpu'))\n",
    "heating_model.load_state_dict(m0_checkpoint)\n",
    "heating_model = heating_model.to(device)"
   ]
  },
  {
   "cell_type": "markdown",
   "metadata": {},
   "source": [
    "## Heat Diffusion Model"
   ]
  },
  {
   "cell_type": "code",
   "execution_count": 9,
   "metadata": {
    "scrolled": true
   },
   "outputs": [
    {
     "name": "stdout",
     "output_type": "stream",
     "text": [
      "Initializing Network with Xavier Initialization..\n"
     ]
    }
   ],
   "source": [
    "m1_input_columns = ['depth', 'AirTemp_degC', 'Longwave_Wm-2', 'Latent_Wm-2', 'Sensible_Wm-2', 'Shortwave_Wm-2',\n",
    "                'lightExtinct_m-1', 'ShearVelocity_mS-1', 'ShearStress_Nm-2', 'Area_m2', \n",
    "                 'buoyancy', 'day_of_year', 'time_of_day', 'diffusivity', 'temp_heat00']\n",
    "m1_output_columns = ['temp_diff01']\n",
    "\n",
    "m1_input_column_ix = [data_df.columns.get_loc(column) for column in m1_input_columns]\n",
    "m1_output_column_ix = [data_df.columns.get_loc(column) for column in m1_output_columns]\n",
    "\n",
    "m1_PATH = f\"./saved_models/heat_diffusion_model_time.pth\"\n",
    "m1_layers = [len(m1_input_columns), 32, 32, len(m1_output_columns)]\n",
    "\n",
    "heat_diff_model = MLP(m1_layers, activation=\"gelu\")\n",
    "m1_checkpoint = torch.load(m1_PATH, map_location=torch.device('cpu'))\n",
    "heat_diff_model.load_state_dict(m1_checkpoint)\n",
    "heat_diff_model = heat_diff_model.to(device)"
   ]
  },
  {
   "cell_type": "markdown",
   "metadata": {},
   "source": [
    "## Mixing Model"
   ]
  },
  {
   "cell_type": "code",
   "execution_count": 10,
   "metadata": {},
   "outputs": [
    {
     "name": "stdout",
     "output_type": "stream",
     "text": [
      "Initializing Network with Xavier Initialization..\n"
     ]
    }
   ],
   "source": [
    "m2_input_columns = ['depth', 'ShearVelocity_mS-1', 'ShearStress_Nm-2', 'day_of_year', 'time_of_day', 'temp_diff01']\n",
    "m2_output_columns = ['temp_mix02']\n",
    "\n",
    "m2_input_column_ix = [data_df.columns.get_loc(column) for column in m2_input_columns]\n",
    "m2_output_column_ix = [data_df.columns.get_loc(column) for column in m2_output_columns]\n",
    "\n",
    "m2_PATH = f\"./saved_models/mixing_model_time.pth\"\n",
    "m2_layers = [len(m2_input_columns), 32, 32, len(m2_output_columns)]\n",
    "\n",
    "mixing_model = MLP(m2_layers, activation=\"gelu\")\n",
    "m2_checkpoint = torch.load(m2_PATH, map_location=torch.device('cpu'))\n",
    "mixing_model.load_state_dict(m2_checkpoint)\n",
    "mixing_model = mixing_model.to(device)"
   ]
  },
  {
   "cell_type": "markdown",
   "metadata": {},
   "source": [
    "# Convection Model"
   ]
  },
  {
   "cell_type": "code",
   "execution_count": 11,
   "metadata": {},
   "outputs": [
    {
     "name": "stdout",
     "output_type": "stream",
     "text": [
      "Initializing Network with Xavier Initialization..\n"
     ]
    }
   ],
   "source": [
    "m3_input_columns = ['depth', 'day_of_year', 'time_of_day', 'temp_mix02']\n",
    "m3_output_columns = ['temp_conv03']\n",
    "\n",
    "m3_input_column_ix = [data_df.columns.get_loc(column) for column in m3_input_columns]\n",
    "m3_output_column_ix = [data_df.columns.get_loc(column) for column in m3_output_columns]\n",
    "\n",
    "m3_PATH = f\"./saved_models/convection_model_time.pth\"\n",
    "m3_layers = [len(m3_input_columns), 32, 32, len(m3_output_columns)]\n",
    "\n",
    "convection_model = MLP(m3_layers, activation=\"gelu\")\n",
    "m3_checkpoint = torch.load(m3_PATH, map_location=torch.device('cpu'))\n",
    "convection_model.load_state_dict(m3_checkpoint)\n",
    "convection_model = convection_model.to(device)"
   ]
  },
  {
   "cell_type": "markdown",
   "metadata": {},
   "source": [
    "# Ice Model"
   ]
  },
  {
   "cell_type": "code",
   "execution_count": 12,
   "metadata": {},
   "outputs": [
    {
     "name": "stdout",
     "output_type": "stream",
     "text": [
      "Initializing Network with Xavier Initialization..\n"
     ]
    }
   ],
   "source": [
    "m4_input_columns = ['depth', 'day_of_year', 'time_of_day', 'temp_conv03']\n",
    "m4_output_columns = ['temp_total04']\n",
    "\n",
    "m4_input_column_ix = [data_df.columns.get_loc(column) for column in m4_input_columns]\n",
    "m4_output_column_ix = [data_df.columns.get_loc(column) for column in m4_output_columns]\n",
    "\n",
    "m4_PATH = f\"./saved_models/ice_model_time.pth\"\n",
    "m4_layers = [len(m4_input_columns), 32, 32, len(m4_output_columns)]\n",
    "\n",
    "ice_model = MLP(m4_layers, activation=\"gelu\")\n",
    "m4_checkpoint = torch.load(m4_PATH, map_location=torch.device('cpu'))\n",
    "ice_model.load_state_dict(m4_checkpoint)\n",
    "ice_model = ice_model.to(device)"
   ]
  },
  {
   "cell_type": "code",
   "execution_count": 13,
   "metadata": {},
   "outputs": [],
   "source": [
    "obs_temp_columns = ['obs_temp']\n",
    "\n",
    "obs_temp_columns_ix = [data_df.columns.get_loc(column) for column in obs_temp_columns]"
   ]
  },
  {
   "cell_type": "code",
   "execution_count": 14,
   "metadata": {},
   "outputs": [],
   "source": [
    "# depth_steps = 24\n",
    "# train_data = np.reshape(train_data, (train_data.shape[0]//depth_steps, depth_steps, train_data.shape[1]))\n",
    "# test_data = np.reshape(test_data, (test_data.shape[0]//depth_steps, depth_steps, test_data.shape[1]))"
   ]
  },
  {
   "cell_type": "code",
   "execution_count": 15,
   "metadata": {},
   "outputs": [],
   "source": [
    "#keeping track of the mean and standard deviations\n",
    "train_mean = scaler.mean_\n",
    "train_std = scaler.scale_"
   ]
  },
  {
   "cell_type": "code",
   "execution_count": 16,
   "metadata": {},
   "outputs": [],
   "source": [
    "# Create data set\n",
    "batch_size = 1000\n",
    "\n",
    "assert batch_size % 25 ==0, \"Batchsize has to be multiple of 25\" \n",
    "\n",
    "train_dataset = DataGenerator(train_data)\n",
    "test_dataset = DataGenerator(test_data)\n",
    "# train_dataset = torch.utils.data.TensorDataset(X_train, y_train)\n",
    "# test_dataset = torch.utils.data.TensorDataset(X_test, y_test)\n",
    "\n",
    "train_loader = torch.utils.data.DataLoader(train_dataset, batch_size=batch_size, \n",
    "                                           shuffle=False)\n",
    "test_loader = torch.utils.data.DataLoader(test_dataset, batch_size=batch_size,\n",
    "                                          shuffle=False)"
   ]
  },
  {
   "cell_type": "code",
   "execution_count": 17,
   "metadata": {},
   "outputs": [
    {
     "name": "stdout",
     "output_type": "stream",
     "text": [
      "(84925, 22)\n",
      "(56650, 22)\n"
     ]
    }
   ],
   "source": [
    "print(train_data.shape)\n",
    "print(test_data.shape)"
   ]
  },
  {
   "cell_type": "code",
   "execution_count": 18,
   "metadata": {},
   "outputs": [],
   "source": [
    "def rmse(true, pred):\n",
    "    return (((true-pred)**2).mean()**0.5).detach().cpu().numpy()\n",
    "\n",
    "def l2_error(true, pred):\n",
    "    return np.linalg.norm(pred.detach().cpu().numpy() - true.detach().cpu().numpy()) / np.linalg.norm(true.detach().cpu().numpy()) "
   ]
  },
  {
   "cell_type": "code",
   "execution_count": 19,
   "metadata": {},
   "outputs": [],
   "source": [
    "#keeping track of the mean and standard deviations\n",
    "\n",
    "input_mean, input_std = train_mean[m1_input_column_ix], train_std[m1_input_column_ix]\n",
    "output_mean, output_std = train_mean[m1_output_column_ix], train_std[m1_output_column_ix]\n",
    "\n",
    "mean_diff = torch.tensor(input_mean[m1_input_column_ix[13]]).to(device)\n",
    "std_diff = torch.tensor(input_std[m1_input_column_ix[13]]).to(device)\n",
    "\n",
    "mean_temp = torch.tensor(input_mean[m1_input_column_ix[14]]).to(device)\n",
    "std_temp = torch.tensor(input_std[m1_input_column_ix[14]]).to(device)\n",
    "\n",
    "mean_out = torch.tensor(output_mean).to(device)\n",
    "std_out = torch.tensor(output_std).to(device)\n",
    "    \n",
    "def implicit_diffusion(diff, temp, dt=3600, dx=1, depth_steps=25):\n",
    "    # de-normalise data\n",
    "    diff = diff * std_diff + mean_diff\n",
    "    diff = diff.view(-1, depth_steps)\n",
    "    \n",
    "    # INPUT DATA FROM PREVIOUS MODULE\n",
    "    t = temp * std_temp + mean_temp # temperature profile from previous module output\n",
    "    t = t.view(-1, depth_steps)\n",
    "    \n",
    "    # IMPLEMENTATION OF CRANK-NICHOLSON SCHEME\n",
    "#     len_t = t.shape[1]\n",
    "    y = torch.zeros((t.shape[0], depth_steps, depth_steps), dtype=torch.float64).to(device)\n",
    "\n",
    "    alpha = (dt/dx**2) * diff\n",
    "\n",
    "    az = - alpha # subdiagonal\n",
    "    bz = 2 * (1 + alpha) # diagonal\n",
    "    cz = - alpha # superdiagonal\n",
    "    \n",
    "    bz[:, 0] = 1\n",
    "    az[:, depth_steps-2] = 0\n",
    "    bz[:, depth_steps-1] = 1\n",
    "    cz[:, 0] = 0\n",
    "    \n",
    "    az = az[:,1:]\n",
    "    cz = cz[:,:-1]\n",
    "\n",
    "    y = torch.diag_embed(bz, offset=0)+torch.diag_embed(az,offset=-1)+torch.diag_embed(cz,offset=1) #slightly efficient way of computing the diagonal matrices\n",
    "    y[:, depth_steps-1, depth_steps-1] = 1\n",
    "    \n",
    "    mn = torch.zeros_like(t)  \n",
    "    mn[:, 0] = t[:, 0]\n",
    "    mn[:,depth_steps-1] = t[:, depth_steps-1]\n",
    "    \n",
    "    mn[:, 1:depth_steps-1] = alpha[:, 1:depth_steps-1]*t[:, :depth_steps-2] + 2 * (1 - alpha[:,1:depth_steps-1])*t[:,1:depth_steps-1] + alpha[:,1:depth_steps-1]*t[:,1:depth_steps-1] #is be same as the loop\n",
    "    \n",
    "    # DERIVED TEMPERATURE OUTPUT FOR NEXT MODULE\n",
    "    proj = torch.linalg.solve(y, mn)\n",
    "\n",
    "    mean, std, var = torch.mean(proj), torch.std(proj), torch.var(proj)\n",
    "    proj = (proj-mean_out)/std_out\n",
    "\n",
    "    proj = proj.to(torch.float32)\n",
    "    proj = proj.view(-1, 1)\n",
    "    return proj"
   ]
  },
  {
   "cell_type": "code",
   "execution_count": 20,
   "metadata": {},
   "outputs": [],
   "source": [
    "def compute_metrics(model, loader, input_columns, output_columns, train_mean, train_std):\n",
    "    model.eval()\n",
    "    y_ = []\n",
    "    pred_ = []\n",
    "    mean = torch.tensor(train_mean[output_columns]).to(device)\n",
    "    std = torch.tensor(train_std[output_columns]).to(device)\n",
    "    \n",
    "    for x in iter(loader):\n",
    "        inputs, target = x[:, input_columns].to(device).float(), x[:, output_columns].to(device).float()\n",
    "        pred = model(inputs)\n",
    "        target = target * std + mean\n",
    "        pred = pred * std + mean\n",
    "        y_.append(target)\n",
    "        pred_.append(pred)\n",
    "    y_ = torch.cat(y_, dim=0) \n",
    "    pred_ = torch.cat(pred_, dim=0)\n",
    "    \n",
    "    if y_.shape[1]==2:\n",
    "        rmse_temp = rmse(y_[:,1], pred_[:,1])\n",
    "        l2_error_temp = l2_error(y_[:,1], pred_[:,1])\n",
    "    else:\n",
    "        rmse_temp = rmse(y_[:,0], pred_[:,0])\n",
    "        l2_error_temp = l2_error(y_[:,0], pred_[:,0])\n",
    "        \n",
    "    return rmse_temp, l2_error_temp"
   ]
  },
  {
   "cell_type": "code",
   "execution_count": 21,
   "metadata": {},
   "outputs": [
    {
     "name": "stdout",
     "output_type": "stream",
     "text": [
      "[0, 1, 2, 3, 4, 5, 6, 7, 8, 9, 12, 16, 17, 13, 14]\n",
      "[0, 1, 2, 3, 4, 5, 6, 7, 8, 9, 12, 16, 17, 13]\n",
      "[0, 1, 2, 3, 4, 5, 6, 7, 8, 9, 12, 16, 17]\n",
      "14\n"
     ]
    }
   ],
   "source": [
    "print(m1_input_column_ix)\n",
    "print(m1_input_column_ix[:-1])\n",
    "print(m1_input_column_ix[:-2])\n",
    "print(m1_input_column_ix[14])"
   ]
  },
  {
   "cell_type": "code",
   "execution_count": 22,
   "metadata": {},
   "outputs": [],
   "source": [
    "def get_rollout_predictions(heating_model, heat_diff_model, mixing_model, convection_model, ice_model, loader, plot = True):    \n",
    "    heating_model.eval()\n",
    "    heat_diff_model.eval()\n",
    "    mixing_model.eval()\n",
    "    convection_model.eval()\n",
    "    ice_model.eval()\n",
    "\n",
    "    mean = torch.tensor(train_mean[m4_output_column_ix]).float().to(device)\n",
    "    std = torch.tensor(train_std[m4_output_column_ix]).float().to(device)\n",
    "\n",
    "    m1_mean = torch.tensor(train_mean[m1_input_column_ix[-1]]).float().to(device)\n",
    "    m1_std = torch.tensor(train_std[m1_input_column_ix[-1]]).float().to(device)\n",
    "\n",
    "#     depthwise_y_pred = []\n",
    "#     depthwise_y_true = []\n",
    "    y_ = []\n",
    "    y_obs_ = []\n",
    "    pred_ = []\n",
    "        \n",
    "    rmse_models = np.zeros((len(loader), 5))\n",
    "    for ix, x in enumerate(iter(loader)):\n",
    "        x = x.to(device).float()\n",
    "        \n",
    "        m0_input = x[:, m0_input_column_ix]\n",
    "            \n",
    "        #model 0\n",
    "        m0_pred = heating_model(m0_input) #predicts diff and temp\n",
    "            \n",
    "        if plot:\n",
    "            m0_y_true = x[:, m0_output_column_ix[0]] * torch.tensor(train_std[m0_output_column_ix[0]]).to(device) + torch.tensor(train_mean[m0_output_column_ix[0]]).to(device)\n",
    "            m0_y_pred = m0_pred * torch.tensor(train_std[m0_output_column_ix[0]]).to(device) + torch.tensor(train_mean[m0_output_column_ix[0]]).to(device)\n",
    "#             print(m1_y_true.shape, m1_y_pred.shape)\n",
    "#             print(\"True\",m1_y_true)\n",
    "#             print(\"Pred\",m1_y_pred)\n",
    "            rmse_models[ix, 0] = rmse(m0_y_true.squeeze(), m0_y_pred.squeeze())\n",
    "#             print(x[:, m1_output_column_ix[1]])\n",
    "#             print(m1_pred_temp)\n",
    "#             print(criterion(m1_pred_temp, x[:, m1_output_column_ix[1]]))\n",
    "            print(\"RMSE of after m0\", rmse(m0_y_true.flatten(), m0_y_pred.flatten()))\n",
    "\n",
    "        #model 2\n",
    "        m1_input = torch.cat([x[:, m1_input_column_ix[:-1]], m0_pred], dim=-1)\n",
    "        #m1_input = x[:, m1_input_column_ix]\n",
    "            \n",
    "        #model 1\n",
    "        # m1_pred = heat_diff_model(m1_input) #predicts diff and temp\n",
    "        \n",
    "        temp_input = m0_y_pred = m0_pred * torch.tensor(train_std[m0_output_column_ix[0]]).to(device) + torch.tensor(train_mean[m0_output_column_ix[0]]).to(device)\n",
    "       # print(temp_input)\n",
    "        \n",
    "        proj = heat_diff_model(m1_input)\n",
    "        \n",
    "        pred = implicit_diffusion(proj, m0_pred)        \n",
    "        m1_pred = pred.to(dtype=torch.float32)\n",
    "        \n",
    "        #print(m1_pred)\n",
    "        \n",
    "        if plot:\n",
    "            m1_y_true = x[:, m1_output_column_ix[0]] * torch.tensor(train_std[m1_output_column_ix[0]]).to(device) + torch.tensor(train_mean[m1_output_column_ix[0]]).to(device)\n",
    "            m1_y_pred = m1_pred * torch.tensor(train_std[m1_output_column_ix[0]]).to(device) + torch.tensor(train_mean[m1_output_column_ix[0]]).to(device)\n",
    "#             print(m1_y_true.shape, m1_y_pred.shape)\n",
    "#             print(\"True\",m1_y_true)\n",
    "#             print(\"Pred\",m1_y_pred)\n",
    "            rmse_models[ix, 1] = rmse(m1_y_true.squeeze(), m1_y_pred.squeeze())\n",
    "#             print(x[:, m1_output_column_ix[1]])\n",
    "#             print(m1_pred_temp)\n",
    "#             print(criterion(m1_pred_temp, x[:, m1_output_column_ix[1]]))\n",
    "            print(\"RMSE of after m1\", rmse(m1_y_true.flatten(), m1_y_pred.flatten()))\n",
    "\n",
    "        #model 2\n",
    "        m2_input = torch.cat([x[:, m2_input_column_ix[:-1]], m1_pred], dim=-1)\n",
    "        m2_pred = mixing_model(m2_input)\n",
    "            \n",
    "        if plot:\n",
    "            m2_y_true = x[:, m2_output_column_ix] * torch.tensor(train_std[m2_output_column_ix[0]]).to(device) + torch.tensor(train_mean[m2_output_column_ix[0]]).to(device)\n",
    "            m2_y_pred = m2_pred * torch.tensor(train_std[m2_output_column_ix[0]]).to(device) + torch.tensor(train_mean[m2_output_column_ix[0]]).to(device)\n",
    "            rmse_models[ix, 2] = rmse(m2_y_true.squeeze(), m2_y_pred.squeeze())\n",
    "            print(\"RMSE of after m2\", rmse(m2_y_true.flatten(), m2_y_pred.flatten()))\n",
    "\n",
    "        #model 3\n",
    "        m3_input = torch.cat([x[:, m3_input_column_ix[:-1]], m2_pred], dim=-1)\n",
    "        m3_pred = convection_model(m3_input)\n",
    "            \n",
    "        if plot:\n",
    "            m3_y_true = x[:, m3_output_column_ix] * torch.tensor(train_std[m3_output_column_ix[0]]).to(device) + torch.tensor(train_mean[m3_output_column_ix[0]]).to(device)\n",
    "            m3_y_pred = m3_pred * torch.tensor(train_std[m3_output_column_ix[0]]).to(device) + torch.tensor(train_mean[m3_output_column_ix[0]]).to(device)\n",
    "            rmse_models[ix, 3] = rmse(m3_y_true.squeeze(), m3_y_pred.squeeze())\n",
    "            print(\"RMSE of after m3\", rmse(m3_y_true.flatten(), m3_y_pred.flatten()))\n",
    "\n",
    "        #model 4\n",
    "        m4_input = torch.cat([x[:, m4_input_column_ix[:-1]], m3_pred], dim=-1)\n",
    "        m4_pred = ice_model(m4_input)\n",
    "            \n",
    "        if plot:\n",
    "            m4_y_true = x[:, m4_output_column_ix] * std + mean\n",
    "            m4_y_pred = m4_pred * std + mean\n",
    "            rmse_models[ix, 4] = rmse(m4_y_true.squeeze(), m4_y_pred.squeeze())\n",
    "            print(\"RMSE of after m4\", rmse(m4_y_true.flatten(), m4_y_pred.flatten()))\n",
    "\n",
    "        y_true = x[:, m4_output_column_ix] * std + mean\n",
    "        y_obs = x[:, obs_temp_columns_ix] * train_std[obs_temp_columns_ix[0]] + train_mean[obs_temp_columns_ix[0]]\n",
    "        pred = m4_pred * std + mean\n",
    "        \n",
    "        y_.append(y_true)\n",
    "        y_obs_.append(y_obs)\n",
    "        pred_.append(pred)\n",
    "\n",
    "    y_ = torch.cat(y_, dim=0)\n",
    "    y_obs_ = torch.cat(y_obs_, dim=0)\n",
    "    pred_ = torch.cat(pred_, dim=0) \n",
    "    \n",
    "    #if plot:   \n",
    "     #        rmse_models = rmse_models.mean(axis=0)\n",
    "     #        plt.figure(figsize=(12,8))\n",
    "     #        plt.plot(rmse_models[:, 0], label=\"RMSE after Heating Model\")\n",
    "     #        plt.plot(rmse_models[:, 1], label=\"RMSE after Heat-Diffusion Model\")\n",
    "     #        plt.plot(rmse_models[:, 2], label=\"RMSE after Mixing Model\")\n",
    "     #        plt.plot(rmse_models[:, 3], label=\"RMSE after Convection Model\")\n",
    "     #        plt.plot(rmse_models[:, 4], label=\"RMSE after Ice Model\")\n",
    "     #        plt.legend(loc=\"upper left\", fontsize=12)\n",
    "     #        plt.xlabel(\"Depth\", fontsize=12)\n",
    "     #        plt.ylabel(\"RMSE\", fontsize=12)\n",
    "     #        plt.grid(\"on\", alpha=0.5)\n",
    "     #        plt.show()\n",
    "    \n",
    "    return pred_, y_, y_obs_, rmse_models\n"
   ]
  },
  {
   "cell_type": "code",
   "execution_count": 23,
   "metadata": {},
   "outputs": [],
   "source": [
    "def plot_output(y_pred, y_true, depth_steps, time_label, figsize=(20,10)):\n",
    "    time_label = np.array([time[:10] for time in time_label])\n",
    "    time_label = time_label[::depth_steps]\n",
    "    \n",
    "    y_pred = y_pred.flatten().detach().cpu().numpy()\n",
    "    y_true = y_true.flatten().detach().cpu().numpy()\n",
    "    \n",
    "    y_true = np.reshape(y_true, (y_true.shape[0]//depth_steps, depth_steps))\n",
    "    y_pred = np.reshape(y_pred, (y_pred.shape[0]//depth_steps, depth_steps))\n",
    "    \n",
    "    N_pts = 6 # number of points to display on the x-label\n",
    "    \n",
    "    fig, ax = plt.subplots(3, 1, figsize=figsize)\n",
    "    sns.heatmap(y_true.T, ax=ax[0], cmap='seismic', vmin=0., vmax=35.)\n",
    "    ax[0].set_ylabel(\"Depth\", fontsize=15)\n",
    "    ax[0].set_xlabel(\"Time\", fontsize=15)\n",
    "    \n",
    "    xticks_ix = np.array(ax[0].get_xticks()).astype(int)\n",
    "    time_label = time_label[xticks_ix]\n",
    "    nelement = len(time_label)//N_pts\n",
    "    time_label = time_label[::nelement]\n",
    "    ax[0].xaxis.set_major_locator(plt.MaxNLocator(N_pts))\n",
    "    ax[0].set_xticklabels(time_label, rotation=0)   \n",
    "#     ax[0].xaxis.set_major_locator(plt.MultipleLocator(100))\n",
    "    ax[0].collections[0].colorbar.set_label(\"Actual Temperature\")\n",
    "    \n",
    "    sns.heatmap(y_pred.T, ax=ax[1], cmap='seismic', vmin=0., vmax=35.)\n",
    "    ax[1].set_ylabel(\"Depth\", fontsize=15)\n",
    "    ax[1].set_xlabel(\"Time\", fontsize=15)\n",
    "    ax[1].xaxis.set_major_locator(plt.MaxNLocator(N_pts))\n",
    "    ax[1].set_xticklabels(time_label, rotation=0)\n",
    "    ax[1].collections[0].colorbar.set_label(\"Predicted Temperature\")\n",
    "    \n",
    "    sns.heatmap(np.abs(y_pred.T-y_true.T), ax=ax[2], cmap='viridis')\n",
    "    ax[2].set_ylabel(\"Depth\", fontsize=15)\n",
    "    ax[2].set_xlabel(\"Time\", fontsize=15)\n",
    "    ax[2].xaxis.set_major_locator(plt.MaxNLocator(N_pts))\n",
    "    ax[2].set_xticklabels(time_label, rotation=0)\n",
    "    \n",
    "    ax[2].collections[0].colorbar.set_label(\"Absolute Error\")\n",
    "    plt.show()"
   ]
  },
  {
   "cell_type": "markdown",
   "metadata": {},
   "source": [
    "# Rollout Results"
   ]
  },
  {
   "cell_type": "markdown",
   "metadata": {},
   "source": [
    "## Training Results"
   ]
  },
  {
   "cell_type": "code",
   "execution_count": 24,
   "metadata": {},
   "outputs": [
    {
     "name": "stdout",
     "output_type": "stream",
     "text": [
      "RMSE of after m0 0.010144097\n",
      "RMSE of after m1 0.037624568\n",
      "RMSE of after m2 0.04029596\n",
      "RMSE of after m3 0.039802603\n",
      "RMSE of after m4 0.039970685\n",
      "RMSE of after m0 0.008860382\n",
      "RMSE of after m1 0.02663425\n",
      "RMSE of after m2 0.043961212\n",
      "RMSE of after m3 0.0441074\n",
      "RMSE of after m4 0.044129364\n",
      "RMSE of after m0 0.0072885305\n",
      "RMSE of after m1 0.02634075\n",
      "RMSE of after m2 0.02652809\n",
      "RMSE of after m3 0.026908085\n",
      "RMSE of after m4 0.026930578\n",
      "RMSE of after m0 0.0066020973\n",
      "RMSE of after m1 0.023662489\n",
      "RMSE of after m2 0.021937968\n",
      "RMSE of after m3 0.022348044\n",
      "RMSE of after m4 0.022291481\n",
      "RMSE of after m0 0.007666328\n",
      "RMSE of after m1 0.014895804\n",
      "RMSE of after m2 0.017540516\n",
      "RMSE of after m3 0.016838346\n",
      "RMSE of after m4 0.016699383\n",
      "RMSE of after m0 0.0072736423\n",
      "RMSE of after m1 0.020800596\n",
      "RMSE of after m2 0.018833308\n",
      "RMSE of after m3 0.01928143\n",
      "RMSE of after m4 0.019185813\n",
      "RMSE of after m0 0.0071256035\n",
      "RMSE of after m1 0.033374064\n",
      "RMSE of after m2 0.03151535\n",
      "RMSE of after m3 0.03190838\n",
      "RMSE of after m4 0.03199382\n",
      "RMSE of after m0 0.006956203\n",
      "RMSE of after m1 0.028209955\n",
      "RMSE of after m2 0.059644725\n",
      "RMSE of after m3 0.060045756\n",
      "RMSE of after m4 0.060022436\n",
      "RMSE of after m0 0.006747942\n",
      "RMSE of after m1 0.031223387\n",
      "RMSE of after m2 0.040684633\n",
      "RMSE of after m3 0.040554628\n",
      "RMSE of after m4 0.040646117\n",
      "RMSE of after m0 0.011199796\n",
      "RMSE of after m1 0.035304453\n",
      "RMSE of after m2 0.038427655\n",
      "RMSE of after m3 0.038160656\n",
      "RMSE of after m4 0.03834102\n",
      "RMSE of after m0 0.0057411348\n",
      "RMSE of after m1 0.022178326\n",
      "RMSE of after m2 0.023271767\n",
      "RMSE of after m3 0.023290046\n",
      "RMSE of after m4 0.023317778\n",
      "RMSE of after m0 0.005094319\n",
      "RMSE of after m1 0.032945037\n",
      "RMSE of after m2 0.03369337\n",
      "RMSE of after m3 0.03292564\n",
      "RMSE of after m4 0.032924272\n",
      "RMSE of after m0 0.005515631\n",
      "RMSE of after m1 0.02833733\n",
      "RMSE of after m2 0.03104878\n",
      "RMSE of after m3 0.030886766\n",
      "RMSE of after m4 0.031049982\n",
      "RMSE of after m0 0.0056879274\n",
      "RMSE of after m1 0.030704023\n",
      "RMSE of after m2 0.027875364\n",
      "RMSE of after m3 0.026513916\n",
      "RMSE of after m4 0.02668547\n",
      "RMSE of after m0 0.008925421\n",
      "RMSE of after m1 0.03684543\n",
      "RMSE of after m2 0.12146\n",
      "RMSE of after m3 0.12119544\n",
      "RMSE of after m4 0.12118212\n",
      "RMSE of after m0 0.007950872\n",
      "RMSE of after m1 0.040321704\n",
      "RMSE of after m2 0.050963107\n",
      "RMSE of after m3 0.05029201\n",
      "RMSE of after m4 0.050139144\n",
      "RMSE of after m0 0.0063130283\n",
      "RMSE of after m1 0.031969346\n",
      "RMSE of after m2 0.026268696\n",
      "RMSE of after m3 0.025310878\n",
      "RMSE of after m4 0.025138734\n",
      "RMSE of after m0 0.0043146475\n",
      "RMSE of after m1 0.02236241\n",
      "RMSE of after m2 0.02099611\n",
      "RMSE of after m3 0.020585423\n",
      "RMSE of after m4 0.020707127\n",
      "RMSE of after m0 0.004230079\n",
      "RMSE of after m1 0.025509233\n",
      "RMSE of after m2 0.026800279\n",
      "RMSE of after m3 0.026767679\n",
      "RMSE of after m4 0.02682985\n",
      "RMSE of after m0 0.004952314\n",
      "RMSE of after m1 0.03399972\n",
      "RMSE of after m2 0.040172815\n",
      "RMSE of after m3 0.038313005\n",
      "RMSE of after m4 0.03829374\n",
      "RMSE of after m0 0.00427886\n",
      "RMSE of after m1 0.02545922\n",
      "RMSE of after m2 0.03258003\n",
      "RMSE of after m3 0.032952897\n",
      "RMSE of after m4 0.03292177\n",
      "RMSE of after m0 0.0034561465\n",
      "RMSE of after m1 0.027626665\n",
      "RMSE of after m2 0.039424594\n",
      "RMSE of after m3 0.038564652\n",
      "RMSE of after m4 0.03866498\n",
      "RMSE of after m0 0.005173788\n",
      "RMSE of after m1 0.027826853\n",
      "RMSE of after m2 0.039447777\n",
      "RMSE of after m3 0.03891129\n",
      "RMSE of after m4 0.038911358\n",
      "RMSE of after m0 0.004257567\n",
      "RMSE of after m1 0.018623866\n",
      "RMSE of after m2 0.017425504\n",
      "RMSE of after m3 0.014232408\n",
      "RMSE of after m4 0.014143155\n",
      "RMSE of after m0 0.004201052\n",
      "RMSE of after m1 0.020634295\n",
      "RMSE of after m2 0.043396775\n",
      "RMSE of after m3 0.043022312\n",
      "RMSE of after m4 0.04310336\n",
      "RMSE of after m0 0.0056763194\n",
      "RMSE of after m1 0.030298537\n",
      "RMSE of after m2 0.03089452\n",
      "RMSE of after m3 0.02844328\n",
      "RMSE of after m4 0.028496481\n",
      "RMSE of after m0 0.0060303016\n",
      "RMSE of after m1 0.023362946\n",
      "RMSE of after m2 0.019355696\n",
      "RMSE of after m3 0.01743934\n",
      "RMSE of after m4 0.017482528\n",
      "RMSE of after m0 0.0054717497\n",
      "RMSE of after m1 0.016366575\n",
      "RMSE of after m2 0.01705233\n",
      "RMSE of after m3 0.013999959\n",
      "RMSE of after m4 0.01449731\n",
      "RMSE of after m0 0.0056925393\n",
      "RMSE of after m1 0.01479807\n",
      "RMSE of after m2 0.019528123\n",
      "RMSE of after m3 0.020008361\n",
      "RMSE of after m4 0.0202301\n",
      "RMSE of after m0 0.004974869\n",
      "RMSE of after m1 0.011674307\n",
      "RMSE of after m2 0.01802907\n",
      "RMSE of after m3 0.019113934\n",
      "RMSE of after m4 0.019088738\n",
      "RMSE of after m0 0.007479295\n",
      "RMSE of after m1 0.020037832\n",
      "RMSE of after m2 0.046467006\n",
      "RMSE of after m3 0.04698442\n",
      "RMSE of after m4 0.046977535\n",
      "RMSE of after m0 0.0063380823\n",
      "RMSE of after m1 0.015980933\n",
      "RMSE of after m2 0.024161985\n",
      "RMSE of after m3 0.025160711\n",
      "RMSE of after m4 0.02507921\n",
      "RMSE of after m0 0.007042058\n",
      "RMSE of after m1 0.017225131\n",
      "RMSE of after m2 0.017981572\n",
      "RMSE of after m3 0.018666625\n",
      "RMSE of after m4 0.018691719\n",
      "RMSE of after m0 0.007082764\n",
      "RMSE of after m1 0.020638557\n",
      "RMSE of after m2 0.017371548\n",
      "RMSE of after m3 0.015307529\n",
      "RMSE of after m4 0.015073331\n",
      "RMSE of after m0 0.008176868\n",
      "RMSE of after m1 0.019800253\n",
      "RMSE of after m2 0.021570737\n",
      "RMSE of after m3 0.021120058\n",
      "RMSE of after m4 0.020897774\n",
      "RMSE of after m0 0.076409906\n",
      "RMSE of after m1 0.07917833\n",
      "RMSE of after m2 0.12627998\n",
      "RMSE of after m3 0.12558396\n",
      "RMSE of after m4 0.12558496\n",
      "RMSE of after m0 0.031732336\n",
      "RMSE of after m1 0.042425223\n",
      "RMSE of after m2 0.06573606\n",
      "RMSE of after m3 0.06605238\n",
      "RMSE of after m4 0.06608416\n",
      "RMSE of after m0 0.03484711\n",
      "RMSE of after m1 0.04626552\n",
      "RMSE of after m2 0.053042457\n",
      "RMSE of after m3 0.052971117\n",
      "RMSE of after m4 0.052975293\n",
      "RMSE of after m0 0.02308793\n",
      "RMSE of after m1 0.038736\n",
      "RMSE of after m2 0.15585746\n",
      "RMSE of after m3 0.15597816\n",
      "RMSE of after m4 0.15593146\n",
      "RMSE of after m0 0.019237427\n",
      "RMSE of after m1 0.04025991\n",
      "RMSE of after m2 0.057006564\n",
      "RMSE of after m3 0.05721687\n",
      "RMSE of after m4 0.057269983\n",
      "RMSE of after m0 0.01983563\n",
      "RMSE of after m1 0.031415083\n",
      "RMSE of after m2 0.03139524\n",
      "RMSE of after m3 0.03075392\n",
      "RMSE of after m4 0.030801397\n",
      "RMSE of after m0 0.02029867\n",
      "RMSE of after m1 0.02816395\n",
      "RMSE of after m2 0.028739542\n",
      "RMSE of after m3 0.028956154\n",
      "RMSE of after m4 0.028987609\n",
      "RMSE of after m0 0.009014793\n",
      "RMSE of after m1 0.026538402\n",
      "RMSE of after m2 0.032498807\n",
      "RMSE of after m3 0.03347889\n",
      "RMSE of after m4 0.033525296\n",
      "RMSE of after m0 0.01063853\n",
      "RMSE of after m1 0.030852556\n",
      "RMSE of after m2 0.052343663\n",
      "RMSE of after m3 0.05259992\n",
      "RMSE of after m4 0.052616093\n",
      "RMSE of after m0 0.010554555\n",
      "RMSE of after m1 0.033141788\n",
      "RMSE of after m2 0.14295128\n",
      "RMSE of after m3 0.14284356\n",
      "RMSE of after m4 0.14285043\n",
      "RMSE of after m0 0.007116736\n",
      "RMSE of after m1 0.033559836\n",
      "RMSE of after m2 0.03895977\n",
      "RMSE of after m3 0.039127916\n",
      "RMSE of after m4 0.039111074\n",
      "RMSE of after m0 0.0117725\n",
      "RMSE of after m1 0.028880864\n",
      "RMSE of after m2 0.02991791\n",
      "RMSE of after m3 0.02990396\n",
      "RMSE of after m4 0.0297946\n",
      "RMSE of after m0 0.0084553575\n",
      "RMSE of after m1 0.036005776\n",
      "RMSE of after m2 0.09775385\n",
      "RMSE of after m3 0.097976685\n",
      "RMSE of after m4 0.09796968\n",
      "RMSE of after m0 0.006828251\n",
      "RMSE of after m1 0.032826573\n",
      "RMSE of after m2 0.041270077\n",
      "RMSE of after m3 0.041068297\n",
      "RMSE of after m4 0.041024946\n",
      "RMSE of after m0 0.008504787\n",
      "RMSE of after m1 0.028820394\n",
      "RMSE of after m2 0.052570995\n",
      "RMSE of after m3 0.052701093\n",
      "RMSE of after m4 0.05271099\n",
      "RMSE of after m0 0.006938534\n",
      "RMSE of after m1 0.03014858\n",
      "RMSE of after m2 0.090555206\n",
      "RMSE of after m3 0.09027133\n",
      "RMSE of after m4 0.09019158\n",
      "RMSE of after m0 0.0051360647\n",
      "RMSE of after m1 0.030179985\n",
      "RMSE of after m2 0.03216788\n",
      "RMSE of after m3 0.0272392\n",
      "RMSE of after m4 0.027209576\n",
      "RMSE of after m0 0.0046432014\n",
      "RMSE of after m1 0.035918906\n",
      "RMSE of after m2 0.043359675\n",
      "RMSE of after m3 0.042157974\n",
      "RMSE of after m4 0.042067822\n",
      "RMSE of after m0 0.008325198\n",
      "RMSE of after m1 0.032525007\n",
      "RMSE of after m2 0.059147775\n",
      "RMSE of after m3 0.058906358\n",
      "RMSE of after m4 0.05895824\n",
      "RMSE of after m0 0.0067159343\n",
      "RMSE of after m1 0.02642491\n",
      "RMSE of after m2 0.030351909\n",
      "RMSE of after m3 0.03014848\n",
      "RMSE of after m4 0.030172719\n",
      "RMSE of after m0 0.0060992106\n",
      "RMSE of after m1 0.02040458\n",
      "RMSE of after m2 0.02138083\n",
      "RMSE of after m3 0.021108847\n",
      "RMSE of after m4 0.021078086\n",
      "RMSE of after m0 0.0050072875\n",
      "RMSE of after m1 0.024847927\n",
      "RMSE of after m2 0.025971588\n",
      "RMSE of after m3 0.025764128\n",
      "RMSE of after m4 0.025739362\n",
      "RMSE of after m0 0.0050395187\n"
     ]
    },
    {
     "name": "stdout",
     "output_type": "stream",
     "text": [
      "RMSE of after m1 0.029372213\n",
      "RMSE of after m2 0.029643208\n",
      "RMSE of after m3 0.029866518\n",
      "RMSE of after m4 0.029796552\n",
      "RMSE of after m0 0.004306414\n",
      "RMSE of after m1 0.019676484\n",
      "RMSE of after m2 0.01893301\n",
      "RMSE of after m3 0.019281752\n",
      "RMSE of after m4 0.019176766\n",
      "RMSE of after m0 0.004385157\n",
      "RMSE of after m1 0.026315562\n",
      "RMSE of after m2 0.053139515\n",
      "RMSE of after m3 0.053171627\n",
      "RMSE of after m4 0.053160932\n",
      "RMSE of after m0 0.006744575\n",
      "RMSE of after m1 0.03020695\n",
      "RMSE of after m2 0.07984054\n",
      "RMSE of after m3 0.07959027\n",
      "RMSE of after m4 0.079560384\n",
      "RMSE of after m0 0.0045704436\n",
      "RMSE of after m1 0.023730993\n",
      "RMSE of after m2 0.043456517\n",
      "RMSE of after m3 0.04363915\n",
      "RMSE of after m4 0.043566685\n",
      "RMSE of after m0 0.0046229037\n",
      "RMSE of after m1 0.027460666\n",
      "RMSE of after m2 0.029309802\n",
      "RMSE of after m3 0.02878194\n",
      "RMSE of after m4 0.028728295\n",
      "RMSE of after m0 0.0050797053\n",
      "RMSE of after m1 0.023557782\n",
      "RMSE of after m2 0.029131832\n",
      "RMSE of after m3 0.029084262\n",
      "RMSE of after m4 0.029098906\n",
      "RMSE of after m0 0.0059046852\n",
      "RMSE of after m1 0.020944161\n",
      "RMSE of after m2 0.051582407\n",
      "RMSE of after m3 0.051426634\n",
      "RMSE of after m4 0.05141422\n",
      "RMSE of after m0 0.0051268386\n",
      "RMSE of after m1 0.028332792\n",
      "RMSE of after m2 0.03820205\n",
      "RMSE of after m3 0.038023476\n",
      "RMSE of after m4 0.03806359\n",
      "RMSE of after m0 0.0054017575\n",
      "RMSE of after m1 0.02739199\n",
      "RMSE of after m2 0.023327472\n",
      "RMSE of after m3 0.022636151\n",
      "RMSE of after m4 0.02263639\n",
      "RMSE of after m0 0.00784597\n",
      "RMSE of after m1 0.026660498\n",
      "RMSE of after m2 0.05715639\n",
      "RMSE of after m3 0.05688069\n",
      "RMSE of after m4 0.056884963\n",
      "RMSE of after m0 0.008417818\n",
      "RMSE of after m1 0.030060543\n",
      "RMSE of after m2 0.026039083\n",
      "RMSE of after m3 0.025116868\n",
      "RMSE of after m4 0.025078936\n",
      "RMSE of after m0 0.008446937\n",
      "RMSE of after m1 0.02258106\n",
      "RMSE of after m2 0.020062175\n",
      "RMSE of after m3 0.019549815\n",
      "RMSE of after m4 0.019549338\n",
      "RMSE of after m0 0.039023012\n",
      "RMSE of after m1 0.042597607\n",
      "RMSE of after m2 0.04473309\n",
      "RMSE of after m3 0.044840287\n",
      "RMSE of after m4 0.044866\n",
      "RMSE of after m0 0.0153569095\n",
      "RMSE of after m1 0.038480323\n",
      "RMSE of after m2 0.046331096\n",
      "RMSE of after m3 0.04599241\n",
      "RMSE of after m4 0.046120837\n",
      "RMSE of after m0 0.01857328\n",
      "RMSE of after m1 0.04601527\n",
      "RMSE of after m2 0.069914035\n",
      "RMSE of after m3 0.06928304\n",
      "RMSE of after m4 0.0694076\n",
      "RMSE of after m0 0.026093662\n",
      "RMSE of after m1 0.042554148\n",
      "RMSE of after m2 0.049433492\n",
      "RMSE of after m3 0.049164224\n",
      "RMSE of after m4 0.049240686\n",
      "RMSE of after m0 0.011599626\n",
      "RMSE of after m1 0.045124087\n",
      "RMSE of after m2 0.04235507\n",
      "RMSE of after m3 0.040218454\n",
      "RMSE of after m4 0.040218808\n",
      "RMSE of after m0 0.0065024197\n",
      "RMSE of after m1 0.03512642\n",
      "RMSE of after m2 0.03462986\n",
      "RMSE of after m3 0.030848037\n",
      "RMSE of after m4 0.030860167\n",
      "RMSE of after m0 0.00914799\n",
      "RMSE of after m1 0.03705198\n",
      "RMSE of after m2 0.037513733\n",
      "RMSE of after m3 0.032996234\n",
      "RMSE of after m4 0.03291362\n",
      "RMSE of after m0 0.007580307\n",
      "RMSE of after m1 0.032637816\n",
      "RMSE of after m2 0.04919482\n",
      "RMSE of after m3 0.048453398\n",
      "RMSE of after m4 0.048436612\n",
      "RMSE of after m0 0.006257987\n",
      "RMSE of after m1 0.036064893\n",
      "RMSE of after m2 0.03439277\n",
      "RMSE of after m3 0.033506285\n",
      "RMSE of after m4 0.033651546\n",
      "RMSE of after m0 0.0065950286\n",
      "RMSE of after m1 0.031100119\n",
      "RMSE of after m2 0.03617241\n",
      "RMSE of after m3 0.036293406\n",
      "RMSE of after m4 0.036340628\n",
      "RMSE of after m0 0.0071059074\n",
      "RMSE of after m1 0.025687436\n",
      "RMSE of after m2 0.030084305\n",
      "RMSE of after m3 0.030283645\n",
      "RMSE of after m4 0.030249637\n",
      "RMSE of after m0 0.010186248\n",
      "RMSE of after m1 0.028973207\n",
      "RMSE of after m2 0.09391982\n",
      "RMSE of after m3 0.09391954\n",
      "RMSE of after m4 0.093925156\n",
      "RMSE of after m0 0.0068384204\n",
      "RMSE of after m1 0.031864315\n",
      "RMSE of after m2 0.02677139\n",
      "RMSE of after m3 0.02592662\n",
      "RMSE of after m4 0.025730787\n",
      "RMSE of after m0 0.0050783483\n",
      "RMSE of after m1 0.033664495\n",
      "RMSE of after m2 0.04696001\n",
      "RMSE of after m3 0.045747153\n",
      "RMSE of after m4 0.045717448\n",
      "RMSE of after m0 0.0040049013\n",
      "RMSE of after m1 0.031061139\n",
      "RMSE of after m2 0.03496378\n",
      "RMSE of after m3 0.03355132\n",
      "RMSE of after m4 0.0335289\n",
      "Train RMSE Simulated: 0.05025140941143036\n",
      "Train RMSE Observed Temp: 3.3953664302825928\n",
      "Train L2 Error: 0.0032549744937568903\n",
      "The RMSEs after each modelling stage: [0.00965834 0.02971073 0.04274187 0.04224525 0.0422508 ]\n"
     ]
    }
   ],
   "source": [
    "train_y_pred, train_y_true, train_y_obs, train_rmse_models = get_rollout_predictions(heating_model, heat_diff_model, mixing_model, convection_model, ice_model, train_loader, plot = True)\n",
    "\n",
    "train_rmse = rmse(train_y_pred.flatten(), train_y_true.flatten())\n",
    "train_rmse_obs = rmse(train_y_pred.flatten(), train_y_obs.flatten())\n",
    "train_l2 = l2_error(train_y_pred.flatten(), train_y_true.flatten())\n",
    "\n",
    "print(f\"Train RMSE Simulated: {train_rmse}\")\n",
    "print(f\"Train RMSE Observed Temp: {train_rmse_obs}\")\n",
    "print(f\"Train L2 Error: {train_l2}\")\n",
    "print(f\"The RMSEs after each modelling stage: {train_rmse_models.mean(axis=0)}\")"
   ]
  },
  {
   "cell_type": "code",
   "execution_count": 25,
   "metadata": {},
   "outputs": [
    {
     "data": {
      "image/png": "[encoded data removed]",
      "text/plain": [
       "<Figure size 1440x720 with 6 Axes>"
      ]
     },
     "metadata": {
      "needs_background": "light"
     },
     "output_type": "display_data"
    }
   ],
   "source": [
    "plot_output(train_y_pred, train_y_true, depth_steps, train_time, figsize=(20,10))"
   ]
  },
  {
   "cell_type": "code",
   "execution_count": 26,
   "metadata": {},
   "outputs": [
    {
     "data": {
      "image/png": "[encoded data removed]",
      "text/plain": [
       "<Figure size 1440x720 with 6 Axes>"
      ]
     },
     "metadata": {
      "needs_background": "light"
     },
     "output_type": "display_data"
    }
   ],
   "source": [
    "plot_output(train_y_pred, train_y_obs, depth_steps, train_time, figsize=(20,10))"
   ]
  },
  {
   "cell_type": "markdown",
   "metadata": {},
   "source": [
    "## Test Results"
   ]
  },
  {
   "cell_type": "code",
   "execution_count": 27,
   "metadata": {},
   "outputs": [
    {
     "name": "stdout",
     "output_type": "stream",
     "text": [
      "RMSE of after m0 0.0052240295\n",
      "RMSE of after m1 0.032098785\n",
      "RMSE of after m2 0.05493689\n",
      "RMSE of after m3 0.054504707\n",
      "RMSE of after m4 0.054478336\n",
      "RMSE of after m0 0.013247291\n",
      "RMSE of after m1 0.041039597\n",
      "RMSE of after m2 0.06062976\n",
      "RMSE of after m3 0.0600222\n",
      "RMSE of after m4 0.06002936\n",
      "RMSE of after m0 0.018338319\n",
      "RMSE of after m1 0.03278327\n",
      "RMSE of after m2 0.050566263\n",
      "RMSE of after m3 0.050632916\n",
      "RMSE of after m4 0.050555773\n",
      "RMSE of after m0 0.009621235\n",
      "RMSE of after m1 0.039245635\n",
      "RMSE of after m2 0.04318311\n",
      "RMSE of after m3 0.042104222\n",
      "RMSE of after m4 0.04201592\n",
      "RMSE of after m0 0.009197004\n",
      "RMSE of after m1 0.03766844\n",
      "RMSE of after m2 0.03685126\n",
      "RMSE of after m3 0.035601195\n",
      "RMSE of after m4 0.03567954\n",
      "RMSE of after m0 0.011338914\n",
      "RMSE of after m1 0.030836696\n",
      "RMSE of after m2 0.0309695\n",
      "RMSE of after m3 0.029244293\n",
      "RMSE of after m4 0.029415235\n",
      "RMSE of after m0 0.011111792\n",
      "RMSE of after m1 0.032598823\n",
      "RMSE of after m2 0.029723601\n",
      "RMSE of after m3 0.028050816\n",
      "RMSE of after m4 0.028916271\n",
      "RMSE of after m0 0.017437624\n",
      "RMSE of after m1 0.03989626\n",
      "RMSE of after m2 0.06842144\n",
      "RMSE of after m3 0.068692766\n",
      "RMSE of after m4 0.0695381\n",
      "RMSE of after m0 0.015339907\n",
      "RMSE of after m1 0.035310447\n",
      "RMSE of after m2 0.035608355\n",
      "RMSE of after m3 0.03766969\n",
      "RMSE of after m4 0.039070163\n",
      "RMSE of after m0 0.021588057\n",
      "RMSE of after m1 0.04412005\n",
      "RMSE of after m2 0.039092276\n",
      "RMSE of after m3 0.036757957\n",
      "RMSE of after m4 0.037030663\n",
      "RMSE of after m0 0.015177476\n",
      "RMSE of after m1 0.03137681\n",
      "RMSE of after m2 0.04093488\n",
      "RMSE of after m3 0.04008603\n",
      "RMSE of after m4 0.04058467\n",
      "RMSE of after m0 0.01347181\n",
      "RMSE of after m1 0.03195449\n",
      "RMSE of after m2 0.04342572\n",
      "RMSE of after m3 0.04356201\n",
      "RMSE of after m4 0.043985657\n",
      "RMSE of after m0 0.027026575\n",
      "RMSE of after m1 0.04520093\n",
      "RMSE of after m2 0.062770516\n",
      "RMSE of after m3 0.06519236\n",
      "RMSE of after m4 0.066856004\n",
      "RMSE of after m0 0.19089057\n",
      "RMSE of after m1 0.19748223\n",
      "RMSE of after m2 0.24750224\n",
      "RMSE of after m3 0.25004622\n",
      "RMSE of after m4 0.2530377\n",
      "RMSE of after m0 0.0474245\n",
      "RMSE of after m1 0.05680619\n",
      "RMSE of after m2 0.07805276\n",
      "RMSE of after m3 0.0809183\n",
      "RMSE of after m4 0.08495633\n",
      "RMSE of after m0 0.023995467\n",
      "RMSE of after m1 0.040488634\n",
      "RMSE of after m2 0.049371712\n",
      "RMSE of after m3 0.057122968\n",
      "RMSE of after m4 0.06256992\n",
      "RMSE of after m0 0.037471667\n",
      "RMSE of after m1 0.045562733\n",
      "RMSE of after m2 0.04660882\n",
      "RMSE of after m3 0.057193097\n",
      "RMSE of after m4 0.06622027\n",
      "RMSE of after m0 0.039743666\n",
      "RMSE of after m1 0.056589928\n",
      "RMSE of after m2 0.06442328\n",
      "RMSE of after m3 0.07000151\n",
      "RMSE of after m4 0.071444124\n",
      "RMSE of after m0 0.01948551\n",
      "RMSE of after m1 0.03113881\n",
      "RMSE of after m2 0.03358457\n",
      "RMSE of after m3 0.043914255\n",
      "RMSE of after m4 0.048023082\n",
      "RMSE of after m0 0.028512418\n",
      "RMSE of after m1 0.036822703\n",
      "RMSE of after m2 0.04780852\n",
      "RMSE of after m3 0.054481\n",
      "RMSE of after m4 0.062251575\n",
      "RMSE of after m0 0.029333215\n",
      "RMSE of after m1 0.044185765\n",
      "RMSE of after m2 0.045627613\n",
      "RMSE of after m3 0.060727622\n",
      "RMSE of after m4 0.06515339\n",
      "RMSE of after m0 0.7708606\n",
      "RMSE of after m1 0.77433366\n",
      "RMSE of after m2 0.7609626\n",
      "RMSE of after m3 0.7550505\n",
      "RMSE of after m4 0.75549877\n",
      "RMSE of after m0 0.14570992\n",
      "RMSE of after m1 0.14852768\n",
      "RMSE of after m2 0.14440688\n",
      "RMSE of after m3 0.14555748\n",
      "RMSE of after m4 0.14457384\n",
      "RMSE of after m0 0.11066744\n",
      "RMSE of after m1 0.116690174\n",
      "RMSE of after m2 0.112775296\n",
      "RMSE of after m3 0.11285292\n",
      "RMSE of after m4 0.11161555\n",
      "RMSE of after m0 0.1874118\n",
      "RMSE of after m1 0.19054031\n",
      "RMSE of after m2 0.19031096\n",
      "RMSE of after m3 0.19093241\n",
      "RMSE of after m4 0.19005822\n",
      "RMSE of after m0 0.1444444\n",
      "RMSE of after m1 0.15027212\n",
      "RMSE of after m2 0.16925482\n",
      "RMSE of after m3 0.16987087\n",
      "RMSE of after m4 0.1695804\n",
      "RMSE of after m0 0.1561364\n",
      "RMSE of after m1 0.16032155\n",
      "RMSE of after m2 0.15925287\n",
      "RMSE of after m3 0.15956838\n",
      "RMSE of after m4 0.15874523\n",
      "RMSE of after m0 0.038919356\n",
      "RMSE of after m1 0.054296564\n",
      "RMSE of after m2 0.051244345\n",
      "RMSE of after m3 0.047785766\n",
      "RMSE of after m4 0.047171988\n",
      "RMSE of after m0 0.07861773\n",
      "RMSE of after m1 0.08756565\n",
      "RMSE of after m2 0.10883987\n",
      "RMSE of after m3 0.10915652\n",
      "RMSE of after m4 0.10906587\n",
      "RMSE of after m0 0.090155005\n",
      "RMSE of after m1 0.09455631\n",
      "RMSE of after m2 0.0945299\n",
      "RMSE of after m3 0.095305964\n",
      "RMSE of after m4 0.094540164\n",
      "RMSE of after m0 0.16702433\n",
      "RMSE of after m1 0.17679258\n",
      "RMSE of after m2 0.19623289\n",
      "RMSE of after m3 0.19585977\n",
      "RMSE of after m4 0.19543949\n",
      "RMSE of after m0 0.18694079\n",
      "RMSE of after m1 0.1938422\n",
      "RMSE of after m2 0.20631602\n",
      "RMSE of after m3 0.20625253\n",
      "RMSE of after m4 0.20611362\n",
      "RMSE of after m0 0.11743138\n",
      "RMSE of after m1 0.12012484\n",
      "RMSE of after m2 0.11956446\n",
      "RMSE of after m3 0.11940104\n",
      "RMSE of after m4 0.11883772\n",
      "RMSE of after m0 0.07375469\n",
      "RMSE of after m1 0.07850337\n",
      "RMSE of after m2 0.07968008\n",
      "RMSE of after m3 0.07968127\n",
      "RMSE of after m4 0.07902407\n",
      "RMSE of after m0 0.0495866\n",
      "RMSE of after m1 0.058433235\n",
      "RMSE of after m2 0.0664564\n",
      "RMSE of after m3 0.0673495\n",
      "RMSE of after m4 0.066875726\n",
      "RMSE of after m0 0.060722034\n",
      "RMSE of after m1 0.074135326\n",
      "RMSE of after m2 0.08493667\n",
      "RMSE of after m3 0.083230264\n",
      "RMSE of after m4 0.082982376\n",
      "RMSE of after m0 0.10930651\n",
      "RMSE of after m1 0.12013483\n",
      "RMSE of after m2 0.120282285\n",
      "RMSE of after m3 0.120517686\n",
      "RMSE of after m4 0.12033017\n",
      "RMSE of after m0 0.036553387\n",
      "RMSE of after m1 0.04538423\n",
      "RMSE of after m2 0.05799212\n",
      "RMSE of after m3 0.058936026\n",
      "RMSE of after m4 0.058650814\n",
      "RMSE of after m0 0.028518727\n",
      "RMSE of after m1 0.044170007\n",
      "RMSE of after m2 0.043155603\n",
      "RMSE of after m3 0.0439345\n",
      "RMSE of after m4 0.04338464\n",
      "RMSE of after m0 0.046752665\n",
      "RMSE of after m1 0.050968118\n",
      "RMSE of after m2 0.088666834\n",
      "RMSE of after m3 0.08936818\n",
      "RMSE of after m4 0.08902579\n",
      "RMSE of after m0 0.04142792\n",
      "RMSE of after m1 0.046389807\n",
      "RMSE of after m2 0.056673553\n",
      "RMSE of after m3 0.0573102\n",
      "RMSE of after m4 0.056872293\n",
      "RMSE of after m0 0.024427833\n",
      "RMSE of after m1 0.04026719\n",
      "RMSE of after m2 0.04556879\n",
      "RMSE of after m3 0.04569322\n",
      "RMSE of after m4 0.045973398\n",
      "RMSE of after m0 0.021718064\n",
      "RMSE of after m1 0.04009294\n",
      "RMSE of after m2 0.06938311\n",
      "RMSE of after m3 0.06795743\n",
      "RMSE of after m4 0.06828546\n",
      "RMSE of after m0 0.015843721\n",
      "RMSE of after m1 0.036237624\n",
      "RMSE of after m2 0.03171473\n",
      "RMSE of after m3 0.031181222\n",
      "RMSE of after m4 0.031400442\n",
      "RMSE of after m0 0.015004216\n",
      "RMSE of after m1 0.041767854\n",
      "RMSE of after m2 0.038594406\n",
      "RMSE of after m3 0.033061657\n",
      "RMSE of after m4 0.03321945\n",
      "RMSE of after m0 0.017037671\n",
      "RMSE of after m1 0.03469123\n",
      "RMSE of after m2 0.039760124\n",
      "RMSE of after m3 0.039410394\n",
      "RMSE of after m4 0.039491102\n",
      "RMSE of after m0 0.012051283\n",
      "RMSE of after m1 0.032584105\n",
      "RMSE of after m2 0.03098009\n",
      "RMSE of after m3 0.030607905\n",
      "RMSE of after m4 0.030873273\n",
      "RMSE of after m0 0.034174033\n",
      "RMSE of after m1 0.04210676\n",
      "RMSE of after m2 0.10447845\n",
      "RMSE of after m3 0.10446876\n",
      "RMSE of after m4 0.10434565\n",
      "RMSE of after m0 0.020168506\n",
      "RMSE of after m1 0.03860246\n",
      "RMSE of after m2 0.055730753\n",
      "RMSE of after m3 0.0560809\n",
      "RMSE of after m4 0.056242745\n",
      "RMSE of after m0 0.012888975\n",
      "RMSE of after m1 0.029280614\n",
      "RMSE of after m2 0.05712504\n",
      "RMSE of after m3 0.056699563\n",
      "RMSE of after m4 0.056939047\n",
      "RMSE of after m0 0.026050068\n",
      "RMSE of after m1 0.040220447\n",
      "RMSE of after m2 0.06784636\n",
      "RMSE of after m3 0.06706791\n",
      "RMSE of after m4 0.06707535\n",
      "RMSE of after m0 0.031146854\n",
      "RMSE of after m1 0.04310511\n",
      "RMSE of after m2 0.0446741\n",
      "RMSE of after m3 0.04485505\n",
      "RMSE of after m4 0.044271234\n",
      "RMSE of after m0 0.09550827\n",
      "RMSE of after m1 0.09886909\n",
      "RMSE of after m2 0.11830017\n",
      "RMSE of after m3 0.11816024\n",
      "RMSE of after m4 0.1183285\n",
      "RMSE of after m0 0.016336154\n",
      "RMSE of after m1 0.029435555\n",
      "RMSE of after m2 0.033079464\n",
      "RMSE of after m3 0.033062186\n",
      "RMSE of after m4 0.033101328\n",
      "RMSE of after m0 0.01850596\n",
      "RMSE of after m1 0.036397953\n",
      "RMSE of after m2 0.037749555\n",
      "RMSE of after m3 0.03483886\n",
      "RMSE of after m4 0.035244353\n",
      "RMSE of after m0 0.019443318\n",
      "RMSE of after m1 0.03221818\n",
      "RMSE of after m2 0.031746924\n",
      "RMSE of after m3 0.031568173\n",
      "RMSE of after m4 0.03181777\n",
      "RMSE of after m0 0.022882352\n",
      "RMSE of after m1 0.03480266\n",
      "RMSE of after m2 0.040352892\n",
      "RMSE of after m3 0.040345665\n",
      "RMSE of after m4 0.04065957\n",
      "Test RMSE Simulated: 0.13542313873767853\n",
      "Test RMSE Observed Temp: 3.100245475769043\n",
      "test L2 Error: 0.007726485375314951\n",
      "The RMSEs after each modelling stage: [0.0640194  0.07754157 0.08717039 0.08788609 0.08855206]\n"
     ]
    }
   ],
   "source": [
    "test_y_pred, test_y_true, test_y_obs, test_rmse_models = get_rollout_predictions(heating_model,heat_diff_model, mixing_model, convection_model, ice_model, test_loader, plot = True)\n",
    "\n",
    "test_rmse = rmse(test_y_pred.flatten(), test_y_true.flatten())\n",
    "test_rmse_obs = rmse(test_y_pred.flatten(), test_y_obs.flatten())\n",
    "test_l2 = l2_error(test_y_pred.flatten(), test_y_true.flatten())\n",
    "\n",
    "print(f\"Test RMSE Simulated: {test_rmse}\")\n",
    "print(f\"Test RMSE Observed Temp: {test_rmse_obs}\")\n",
    "print(f\"test L2 Error: {test_l2}\")\n",
    "print(f\"The RMSEs after each modelling stage: {test_rmse_models.mean(axis=0)}\")"
   ]
  },
  {
   "cell_type": "code",
   "execution_count": 28,
   "metadata": {},
   "outputs": [
    {
     "data": {
      "image/png": "[encoded data removed]",
      "text/plain": [
       "<Figure size 1440x720 with 6 Axes>"
      ]
     },
     "metadata": {
      "needs_background": "light"
     },
     "output_type": "display_data"
    }
   ],
   "source": [
    "plot_output(test_y_pred, test_y_true, depth_steps, test_time, figsize=(20,10))"
   ]
  },
  {
   "cell_type": "code",
   "execution_count": 29,
   "metadata": {},
   "outputs": [
    {
     "data": {
      "image/png": "[encoded data removed]",
      "text/plain": [
       "<Figure size 1440x720 with 6 Axes>"
      ]
     },
     "metadata": {
      "needs_background": "light"
     },
     "output_type": "display_data"
    }
   ],
   "source": [
    "plot_output(test_y_pred, test_y_obs, depth_steps, train_time, figsize=(20,10))"
   ]
  },
  {
   "cell_type": "markdown",
   "metadata": {},
   "source": [
    "# Evaluate ALL Models individually"
   ]
  },
  {
   "cell_type": "markdown",
   "metadata": {},
   "source": [
    "## Heat Diffusion Model"
   ]
  },
  {
   "cell_type": "code",
   "execution_count": 30,
   "metadata": {},
   "outputs": [
    {
     "name": "stdout",
     "output_type": "stream",
     "text": [
      "Train RMSE: 12.827437599999891, Train L2 Error: 0.8309701714641251\n",
      "Test RMSE: 14.88900707541003, Train L2 Error: 0.8487842305478619\n"
     ]
    }
   ],
   "source": [
    "train_rmse, train_l2_err = compute_metrics( heat_diff_model, train_loader, m1_input_column_ix, m1_output_column_ix, train_mean, train_std)\n",
    "print(f\"Train RMSE: {train_rmse}, Train L2 Error: {train_l2_err}\")\n",
    "\n",
    "test_rmse, test_l2_err = compute_metrics(heat_diff_model, test_loader, m1_input_column_ix, m1_output_column_ix, train_mean, train_std)\n",
    "print(f\"Test RMSE: {test_rmse}, Train L2 Error: {test_l2_err}\")"
   ]
  },
  {
   "cell_type": "markdown",
   "metadata": {},
   "source": [
    "## Mixing Model"
   ]
  },
  {
   "cell_type": "code",
   "execution_count": 31,
   "metadata": {},
   "outputs": [
    {
     "name": "stdout",
     "output_type": "stream",
     "text": [
      "Train RMSE: 0.0435148034361539, Train L2 Error: 0.0028188573841423452\n",
      "Test RMSE: 0.04440403271307789, Train L2 Error: 0.0025312998691790854\n"
     ]
    }
   ],
   "source": [
    "train_rmse, train_l2_err = compute_metrics(mixing_model, train_loader, m2_input_column_ix, m2_output_column_ix, train_mean, train_std)\n",
    "print(f\"Train RMSE: {train_rmse}, Train L2 Error: {train_l2_err}\")\n",
    "\n",
    "test_rmse, test_l2_err = compute_metrics(mixing_model, test_loader, m2_input_column_ix, m2_output_column_ix, train_mean, train_std)\n",
    "print(f\"Test RMSE: {test_rmse}, Train L2 Error: {test_l2_err}\")"
   ]
  },
  {
   "cell_type": "markdown",
   "metadata": {},
   "source": [
    "## Convection Model"
   ]
  },
  {
   "cell_type": "code",
   "execution_count": 32,
   "metadata": {},
   "outputs": [
    {
     "name": "stdout",
     "output_type": "stream",
     "text": [
      "Train RMSE: 0.006609912617224429, Train L2 Error: 0.00042818981247232937\n",
      "Test RMSE: 0.011185664355474322, Train L2 Error: 0.0006376559065977617\n"
     ]
    }
   ],
   "source": [
    "train_rmse, train_l2_err = compute_metrics(convection_model, train_loader, m3_input_column_ix, m3_output_column_ix, train_mean, train_std)\n",
    "print(f\"Train RMSE: {train_rmse}, Train L2 Error: {train_l2_err}\")\n",
    "\n",
    "test_rmse, test_l2_err = compute_metrics(convection_model, test_loader, m3_input_column_ix, m3_output_column_ix, train_mean, train_std)\n",
    "print(f\"Test RMSE: {test_rmse}, Train L2 Error: {test_l2_err}\")"
   ]
  },
  {
   "cell_type": "markdown",
   "metadata": {},
   "source": [
    "## Ice Model"
   ]
  },
  {
   "cell_type": "code",
   "execution_count": 33,
   "metadata": {},
   "outputs": [
    {
     "name": "stdout",
     "output_type": "stream",
     "text": [
      "Train RMSE: 0.0008162126385603805, Train L2 Error: 5.287421436283234e-05\n",
      "Test RMSE: 0.005814208886940472, Train L2 Error: 0.00033144787123317687\n"
     ]
    }
   ],
   "source": [
    "train_rmse, train_l2_err = compute_metrics(ice_model, train_loader, m4_input_column_ix, m4_output_column_ix, train_mean, train_std)\n",
    "print(f\"Train RMSE: {train_rmse}, Train L2 Error: {train_l2_err}\")\n",
    "\n",
    "test_rmse, test_l2_err = compute_metrics(ice_model, test_loader, m4_input_column_ix, m4_output_column_ix, train_mean, train_std)\n",
    "print(f\"Test RMSE: {test_rmse}, Train L2 Error: {test_l2_err}\")"
   ]
  },
  {
   "cell_type": "code",
   "execution_count": null,
   "metadata": {},
   "outputs": [],
   "source": []
  },
  {
   "cell_type": "markdown",
   "metadata": {},
   "source": [
    "# Finetuning"
   ]
  },
  {
   "cell_type": "code",
   "execution_count": 34,
   "metadata": {},
   "outputs": [],
   "source": [
    "lr = 1e-5\n",
    "# decay_rate = 0.1\n",
    "# decay_steps = 500\n",
    "\n",
    "params = list(heating_model.parameters()) + list(heat_diff_model.parameters()) + list(mixing_model.parameters()) + list(convection_model.parameters()) + list(ice_model.parameters())\n",
    "\n",
    "optimizer = torch.optim.Adam(params, lr=lr, \n",
    "                             betas=(0.9, 0.999), eps=1e-08, weight_decay=0, amsgrad=False)\n",
    "# lr_scheduler = torch.optim.lr_scheduler.StepLR(optimizer, step_size=decay_steps, gamma=decay_rate)\n",
    "\n",
    "criterion = torch.nn.MSELoss()"
   ]
  },
  {
   "cell_type": "markdown",
   "metadata": {},
   "source": [
    "# Freeze model weights"
   ]
  },
  {
   "cell_type": "code",
   "execution_count": 35,
   "metadata": {},
   "outputs": [],
   "source": [
    "def freeze_model(model):\n",
    "    for param in model.parameters():\n",
    "        param.requires_grad = False\n",
    "\n",
    "def unfreeze_model(model):\n",
    "    for param in model.parameters():\n",
    "        param.requires_grad = True"
   ]
  },
  {
   "cell_type": "code",
   "execution_count": 36,
   "metadata": {},
   "outputs": [],
   "source": [
    "#freeze_model(heating_model)\n",
    "unfreeze_model(mixing_model)\n",
    "unfreeze_model(convection_model)\n",
    "unfreeze_model(ice_model)\n",
    "unfreeze_model(heat_diff_model)\n",
    "unfreeze_model(heating_model)"
   ]
  },
  {
   "cell_type": "markdown",
   "metadata": {},
   "source": [
    "# Finetuning on Observed Temperature"
   ]
  },
  {
   "cell_type": "code",
   "execution_count": null,
   "metadata": {},
   "outputs": [
    {
     "name": "stderr",
     "output_type": "stream",
     "text": [
      "  0%|          | 1/500 [00:01<09:39,  1.16s/it]"
     ]
    },
    {
     "name": "stdout",
     "output_type": "stream",
     "text": [
      "Epoch : 0, Train_loss: 0.2706349981181762, Loss m0: 0.0001653448416484881, Loss m1: 0.0001844260805977255, Loss m2: 0.0006226824975730029, Loss m3: 0.0012526751941229176, Loss m4: 0.2706349981181762\n"
     ]
    },
    {
     "name": "stderr",
     "output_type": "stream",
     "text": [
      " 10%|█         | 51/500 [00:56<08:27,  1.13s/it]"
     ]
    },
    {
     "name": "stdout",
     "output_type": "stream",
     "text": [
      "Epoch : 50, Train_loss: 0.03334007408908185, Loss m0: 0.03979568632648272, Loss m1: 0.04004173467264456, Loss m2: 0.09361397010438582, Loss m3: 0.15957741246503943, Loss m4: 0.03334007408908185\n"
     ]
    },
    {
     "name": "stderr",
     "output_type": "stream",
     "text": [
      " 20%|██        | 101/500 [01:53<07:42,  1.16s/it]"
     ]
    },
    {
     "name": "stdout",
     "output_type": "stream",
     "text": [
      "Epoch : 100, Train_loss: 0.027763954040539614, Loss m0: 0.053510717653176366, Loss m1: 0.053763700671055736, Loss m2: 0.11334445073324091, Loss m3: 0.17941111466463874, Loss m4: 0.027763954040539614\n"
     ]
    },
    {
     "name": "stderr",
     "output_type": "stream",
     "text": [
      " 30%|███       | 151/500 [02:49<06:33,  1.13s/it]"
     ]
    },
    {
     "name": "stdout",
     "output_type": "stream",
     "text": [
      "Epoch : 150, Train_loss: 0.025595163805958103, Loss m0: 0.06371277443626348, Loss m1: 0.06368876209153848, Loss m2: 0.12379390167839387, Loss m3: 0.18678984571905696, Loss m4: 0.025595163805958103\n"
     ]
    },
    {
     "name": "stderr",
     "output_type": "stream",
     "text": [
      " 40%|████      | 201/500 [03:48<06:20,  1.27s/it]"
     ]
    },
    {
     "name": "stdout",
     "output_type": "stream",
     "text": [
      "Epoch : 200, Train_loss: 0.02415908977170201, Loss m0: 0.07400567229179775, Loss m1: 0.07360346781856873, Loss m2: 0.13258461785667083, Loss m3: 0.19246294743874492, Loss m4: 0.02415908977170201\n"
     ]
    },
    {
     "name": "stderr",
     "output_type": "stream",
     "text": [
      " 50%|█████     | 251/500 [04:49<04:54,  1.18s/it]"
     ]
    },
    {
     "name": "stdout",
     "output_type": "stream",
     "text": [
      "Epoch : 250, Train_loss: 0.023078846416490918, Loss m0: 0.08461273790282361, Loss m1: 0.0838519515360103, Loss m2: 0.14086261645835987, Loss m3: 0.19789217728025774, Loss m4: 0.023078846416490918\n"
     ]
    },
    {
     "name": "stderr",
     "output_type": "stream",
     "text": [
      " 60%|██████    | 301/500 [05:49<03:58,  1.20s/it]"
     ]
    },
    {
     "name": "stdout",
     "output_type": "stream",
     "text": [
      "Epoch : 300, Train_loss: 0.022205060753313934, Loss m0: 0.09496209042913774, Loss m1: 0.09392631492194008, Loss m2: 0.14848359104465036, Loss m3: 0.20306361896150252, Loss m4: 0.022205060753313934\n"
     ]
    },
    {
     "name": "stderr",
     "output_type": "stream",
     "text": [
      " 70%|███████   | 351/500 [06:50<03:03,  1.23s/it]"
     ]
    },
    {
     "name": "stdout",
     "output_type": "stream",
     "text": [
      "Epoch : 350, Train_loss: 0.021468892660649382, Loss m0: 0.10454829948789933, Loss m1: 0.1033424652674619, Loss m2: 0.15524201664854498, Loss m3: 0.20785315457512352, Loss m4: 0.021468892660649382\n"
     ]
    },
    {
     "name": "stderr",
     "output_type": "stream",
     "text": [
      " 80%|████████  | 401/500 [07:55<02:26,  1.48s/it]"
     ]
    },
    {
     "name": "stdout",
     "output_type": "stream",
     "text": [
      "Epoch : 400, Train_loss: 0.020832546603153732, Loss m0: 0.11304958471480538, Loss m1: 0.11177638550015057, Loss m2: 0.16103025289142833, Loss m3: 0.21218786642831913, Loss m4: 0.020832546603153732\n"
     ]
    },
    {
     "name": "stderr",
     "output_type": "stream",
     "text": [
      " 89%|████████▊ | 443/500 [08:55<01:18,  1.37s/it]"
     ]
    }
   ],
   "source": [
    "heating_model.train()\n",
    "heat_diff_model.train()\n",
    "mixing_model.train()\n",
    "convection_model.train()\n",
    "ice_model.train()\n",
    "\n",
    "n_epochs = 500\n",
    "\n",
    "# mean and standard dev of \"temp_total04\" of model 4 output\n",
    "mean_out4 = torch.tensor(train_mean[m4_output_column_ix[0]]).float().to(device)\n",
    "std_out4 = torch.tensor(train_std[m4_output_column_ix[0]]).float().to(device)\n",
    "\n",
    "mean_obs = torch.tensor(train_mean[obs_temp_columns_ix[0]]).float().to(device)\n",
    "std_obs = torch.tensor(train_std[obs_temp_columns_ix[0]]).float().to(device)\n",
    "\n",
    "# mean and standard dev of \"input_temp\" of model 1 input\n",
    "m1_mean = torch.tensor(train_mean[m1_input_column_ix[-1]]).float().to(device)\n",
    "m1_std = torch.tensor(train_std[m1_input_column_ix[-1]]).float().to(device)\n",
    "\n",
    "train_loss = []\n",
    "LOSS_m0 = []\n",
    "LOSS_m1 = []\n",
    "LOSS_m2 = []\n",
    "LOSS_m3 = []\n",
    "LOSS_m4 = []\n",
    "\n",
    "for it in tqdm(range(n_epochs)):\n",
    "    loss_epoch = 0\n",
    "    loss_epoch_m0 = 0\n",
    "    loss_epoch_m1 = 0\n",
    "    loss_epoch_m2 = 0\n",
    "    loss_epoch_m3 = 0\n",
    "    loss_epoch_m4 = 0\n",
    "    for ix, x in enumerate(iter(train_loader)):\n",
    "        x = x.to(device).float()\n",
    "        optimizer.zero_grad()\n",
    "        \n",
    "      #  m1_input = x[:, m1_input_column_ix]\n",
    "        m0_input = x[:, m0_input_column_ix]\n",
    "        \n",
    "        #model 0\n",
    "        m0_pred = heating_model(m0_input) #predicts diff and temp\n",
    "        loss_m0 = criterion(m0_pred, x[:, m0_output_column_ix])\n",
    "\n",
    "        #model 1\n",
    "        m1_input = torch.cat([x[:, m1_input_column_ix[:-1]], m0_pred], dim=-1)\n",
    "        # m1_pred = heat_diff_model(m1_input)\n",
    "        \n",
    "        proj = heat_diff_model(m1_input)\n",
    "        pred = implicit_diffusion(proj, m0_pred)        \n",
    "        m1_pred = pred.to(dtype=torch.float32)\n",
    "                \n",
    "        loss_m1 = criterion(m1_pred, x[:, m1_output_column_ix])\n",
    "        \n",
    "        #m1_pred = heat_diff_model(m1_input) #predicts diff and temp\n",
    "        #m1_pred_temp = m1_pred[:,1:2]\n",
    "            \n",
    "        #loss_m1 = criterion(m1_pred_temp, x[:, m1_output_column_ix[1]].unsqueeze(1))\n",
    "\n",
    "        #model 2\n",
    "        m2_input = torch.cat([x[:, m2_input_column_ix[:-1]], m1_pred], dim=-1)\n",
    "        m2_pred = mixing_model(m2_input)\n",
    "            \n",
    "        loss_m2 = criterion(m2_pred, x[:, m2_output_column_ix])\n",
    "\n",
    "        #model 3\n",
    "        m3_input = torch.cat([x[:, m3_input_column_ix[:-1]], m2_pred], dim=-1)\n",
    "        m3_pred = convection_model(m3_input)\n",
    "\n",
    "        loss_m3 = criterion(m3_pred, x[:, m3_output_column_ix])\n",
    "\n",
    "        #model 4\n",
    "        m4_input = torch.cat([x[:, m4_input_column_ix[:-1]], m3_pred], dim=-1)\n",
    "        m4_pred = ice_model(m4_input)\n",
    "        \n",
    "        obs_temp_true = x[:, obs_temp_columns_ix] * std_obs + mean_obs\n",
    "        obs_temp_true_norm = (obs_temp_true - mean_out4)/std_out4\n",
    "        \n",
    "        loss_m4 = criterion(m4_pred, obs_temp_true_norm)\n",
    "\n",
    "        #loss = (loss_m0 + loss_m1 + loss_m2 + loss_m3 + loss_m4)\n",
    "        \n",
    "        loss = loss_m4\n",
    "        \n",
    "        loss.backward()\n",
    "        optimizer.step()\n",
    "        \n",
    "        loss_epoch += loss.item()\n",
    "        loss_epoch_m0 += loss_m0.item()\n",
    "        loss_epoch_m1 += loss_m1.item()\n",
    "        loss_epoch_m2 += loss_m2.item()\n",
    "        loss_epoch_m3 += loss_m3.item()\n",
    "        loss_epoch_m4 += loss_m4.item()\n",
    "    \n",
    "    loss_epoch = loss_epoch/len(train_loader)\n",
    "    loss_epoch_m0 = loss_epoch_m0/len(train_loader)\n",
    "    loss_epoch_m1 = loss_epoch_m1/len(train_loader)\n",
    "    loss_epoch_m2 = loss_epoch_m2/len(train_loader)\n",
    "    loss_epoch_m3 = loss_epoch_m3/len(train_loader)\n",
    "    loss_epoch_m4 = loss_epoch_m4/len(train_loader)\n",
    "    \n",
    "    train_loss.append(loss_epoch)\n",
    "    LOSS_m0.append(loss_epoch_m0)\n",
    "    LOSS_m1.append(loss_epoch_m1)\n",
    "    LOSS_m2.append(loss_epoch_m2)\n",
    "    LOSS_m3.append(loss_epoch_m3)\n",
    "    LOSS_m4.append(loss_epoch_m4)\n",
    "    if it % 50 == 0:\n",
    "        print(f\"Epoch : {it}, Train_loss: {train_loss[-1]}, Loss m0: {LOSS_m0[-1]}, Loss m1: {LOSS_m1[-1]}, Loss m2: {LOSS_m2[-1]}, Loss m3: {LOSS_m3[-1]}, Loss m4: {LOSS_m4[-1]}\")\n",
    "    \n",
    "    #plot the loss_m1, m2\n"
   ]
  },
  {
   "cell_type": "code",
   "execution_count": null,
   "metadata": {},
   "outputs": [],
   "source": [
    "plt.figure(figsize=(10,6))\n",
    "plt.plot(train_loss, label = \"Train Loss\")\n",
    "plt.plot(LOSS_m0, label = \"Loss M0\")\n",
    "plt.plot(LOSS_m1, label = \"Loss M1\")\n",
    "plt.plot(LOSS_m2, label = \"Loss M2\")\n",
    "plt.plot(LOSS_m3, label = \"Loss M3\")\n",
    "plt.plot(LOSS_m4, label = \"Loss M4\")\n",
    "plt.ylabel(\"Loss\", fontsize=15)\n",
    "plt.xlabel(\"Epoch\", fontsize=15)\n",
    "plt.yscale(\"log\")\n",
    "plt.legend(fontsize=15)\n",
    "plt.show()"
   ]
  },
  {
   "cell_type": "markdown",
   "metadata": {},
   "source": [
    "# Rollout Evaluation After FineTuning"
   ]
  },
  {
   "cell_type": "code",
   "execution_count": null,
   "metadata": {
    "tags": []
   },
   "outputs": [],
   "source": [
    "train_y_pred, train_y_true, train_y_obs, train_rmse_models = get_rollout_predictions(heating_model, heat_diff_model, mixing_model, convection_model, ice_model, train_loader, plot = True)\n",
    "\n",
    "train_rmse = rmse(train_y_pred.flatten(), train_y_true.flatten())\n",
    "train_rmse_obs = rmse(train_y_pred.flatten(), train_y_obs.flatten())\n",
    "train_l2 = l2_error(train_y_pred.flatten(), train_y_true.flatten())\n",
    "\n",
    "print(f\"Train RMSE Simulated: {train_rmse}\")\n",
    "print(f\"Train RMSE Observed Temp: {train_rmse_obs}\")\n",
    "print(f\"Train L2 Error: {train_l2}\")\n",
    "print(f\"The RMSEs after each modelling stage: {train_rmse_models.mean(axis=0)}\")"
   ]
  },
  {
   "cell_type": "code",
   "execution_count": null,
   "metadata": {},
   "outputs": [],
   "source": [
    "plot_output(train_y_pred, train_y_true, depth_steps, train_time, figsize=(20,10))"
   ]
  },
  {
   "cell_type": "code",
   "execution_count": null,
   "metadata": {},
   "outputs": [],
   "source": [
    "plot_output(train_y_pred, train_y_obs, depth_steps, train_time, figsize=(20,10))"
   ]
  },
  {
   "cell_type": "code",
   "execution_count": null,
   "metadata": {},
   "outputs": [],
   "source": [
    "test_y_pred, test_y_true, test_y_obs, test_rmse_models = get_rollout_predictions(heating_model, heat_diff_model, mixing_model, convection_model, ice_model, test_loader, plot = True)\n",
    "\n",
    "test_rmse = rmse(test_y_pred.flatten(), test_y_true.flatten())\n",
    "test_rmse_obs = rmse(test_y_pred.flatten(), test_y_obs.flatten())\n",
    "test_l2 = l2_error(test_y_pred.flatten(), test_y_true.flatten())\n",
    "\n",
    "print(f\"Test RMSE Simulated: {test_rmse}\")\n",
    "print(f\"Test RMSE Observed Temp: {test_rmse_obs}\")\n",
    "print(f\"test L2 Error: {test_l2}\")\n",
    "print(f\"The RMSEs after each modelling stage: {test_rmse_models.mean(axis=0)}\")"
   ]
  },
  {
   "cell_type": "code",
   "execution_count": null,
   "metadata": {},
   "outputs": [],
   "source": [
    "plot_output(test_y_pred, test_y_true, depth_steps, test_time, figsize=(20,10))"
   ]
  },
  {
   "cell_type": "code",
   "execution_count": null,
   "metadata": {},
   "outputs": [],
   "source": [
    "plot_output(test_y_pred, test_y_obs, depth_steps, train_time, figsize=(20,10))"
   ]
  },
  {
   "cell_type": "markdown",
   "metadata": {},
   "source": [
    "# Evaluate ALL Models individually"
   ]
  },
  {
   "cell_type": "markdown",
   "metadata": {},
   "source": [
    "## Heat Diffusion Model"
   ]
  },
  {
   "cell_type": "code",
   "execution_count": null,
   "metadata": {},
   "outputs": [],
   "source": [
    "train_rmse, train_l2_err = compute_metrics(heat_diff_model, train_loader, m1_input_column_ix, m1_output_column_ix, train_mean, train_std)\n",
    "print(f\"Train RMSE: {train_rmse}, Train L2 Error: {train_l2_err}\")\n",
    "\n",
    "test_rmse, test_l2_err = compute_metrics(heat_diff_model, test_loader, m1_input_column_ix, m1_output_column_ix, train_mean, train_std)\n",
    "print(f\"Test RMSE: {test_rmse}, Train L2 Error: {test_l2_err}\")"
   ]
  },
  {
   "cell_type": "markdown",
   "metadata": {},
   "source": [
    "## Mixing Model"
   ]
  },
  {
   "cell_type": "code",
   "execution_count": null,
   "metadata": {},
   "outputs": [],
   "source": [
    "train_rmse, train_l2_err = compute_metrics(mixing_model, train_loader, m2_input_column_ix, m2_output_column_ix, train_mean, train_std)\n",
    "print(f\"Train RMSE: {train_rmse}, Train L2 Error: {train_l2_err}\")\n",
    "\n",
    "test_rmse, test_l2_err = compute_metrics(mixing_model, test_loader, m2_input_column_ix, m2_output_column_ix, train_mean, train_std)\n",
    "print(f\"Test RMSE: {test_rmse}, Train L2 Error: {test_l2_err}\")"
   ]
  },
  {
   "cell_type": "markdown",
   "metadata": {},
   "source": [
    "## Convection Model"
   ]
  },
  {
   "cell_type": "code",
   "execution_count": null,
   "metadata": {},
   "outputs": [],
   "source": [
    "train_rmse, train_l2_err = compute_metrics(convection_model, train_loader, m3_input_column_ix, m3_output_column_ix, train_mean, train_std)\n",
    "print(f\"Train RMSE: {train_rmse}, Train L2 Error: {train_l2_err}\")\n",
    "\n",
    "test_rmse, test_l2_err = compute_metrics(convection_model, test_loader, m3_input_column_ix, m3_output_column_ix, train_mean, train_std)\n",
    "print(f\"Test RMSE: {test_rmse}, Train L2 Error: {test_l2_err}\")"
   ]
  },
  {
   "cell_type": "markdown",
   "metadata": {},
   "source": [
    "## Ice Model"
   ]
  },
  {
   "cell_type": "code",
   "execution_count": null,
   "metadata": {},
   "outputs": [],
   "source": [
    "train_rmse, train_l2_err = compute_metrics(ice_model, train_loader, m4_input_column_ix, m4_output_column_ix, train_mean, train_std)\n",
    "print(f\"Train RMSE: {train_rmse}, Train L2 Error: {train_l2_err}\")\n",
    "\n",
    "test_rmse, test_l2_err = compute_metrics(ice_model, test_loader, m4_input_column_ix, m4_output_column_ix, train_mean, train_std)\n",
    "print(f\"Test RMSE: {test_rmse}, Train L2 Error: {test_l2_err}\")"
   ]
  },
  {
   "cell_type": "markdown",
   "metadata": {},
   "source": [
    "# Compute Model Similarity after Finetuning"
   ]
  },
  {
   "cell_type": "code",
   "execution_count": null,
   "metadata": {},
   "outputs": [],
   "source": [
    "def compute_model_similarity(model1, model2):\n",
    "    weight1 = []\n",
    "    weight2 = []\n",
    "    for param1, param2 in zip(model1.parameters(), model2.parameters()):\n",
    "        weight1.append(param1.detach().clone().flatten())\n",
    "        weight2.append(param2.detach().clone().flatten())\n",
    "    weight1 = torch.cat(weight1, dim=0)\n",
    "    weight2 = torch.cat(weight2, dim=0)\n",
    "    \n",
    "    #Cosine Similarity\n",
    "    cos = nn.CosineSimilarity(dim=0, eps=1e-8)\n",
    "    cos_sim = cos(weight1, weight2)\n",
    "    \n",
    "    #L2 norm\n",
    "    l2 = torch.norm((weight1-weight2), p='fro', dim=0)\n",
    "    \n",
    "    return cos_sim, l2"
   ]
  },
  {
   "cell_type": "code",
   "execution_count": null,
   "metadata": {},
   "outputs": [],
   "source": [
    "heating_model_init = MLP(m0_layers, activation=\"gelu\")\n",
    "heating_model_init.load_state_dict(m0_checkpoint)\n",
    "heating_model_init = heating_model_init.to(device)\n",
    "\n",
    "cos_sim, l2_dist = compute_model_similarity(heating_model_init, heating_model)\n",
    "\n",
    "print(f\"Cosine Similarity: {cos_sim}\")\n",
    "print(f\"L2 Norm: {l2_dist}\")"
   ]
  },
  {
   "cell_type": "code",
   "execution_count": null,
   "metadata": {},
   "outputs": [],
   "source": [
    "heat_diff_model_init = MLP(m1_layers, activation=\"gelu\")\n",
    "heat_diff_model_init.load_state_dict(m1_checkpoint)\n",
    "heat_diff_model_init = heat_diff_model_init.to(device)\n",
    "\n",
    "cos_sim, l2_dist = compute_model_similarity(heat_diff_model_init, heat_diff_model)\n",
    "\n",
    "print(f\"Cosine Similarity: {cos_sim}\")\n",
    "print(f\"L2 Norm: {l2_dist}\")"
   ]
  },
  {
   "cell_type": "code",
   "execution_count": null,
   "metadata": {},
   "outputs": [],
   "source": [
    "mixing_model_init = MLP(m2_layers, activation=\"gelu\")\n",
    "mixing_model_init.load_state_dict(m2_checkpoint)\n",
    "mixing_model_init = mixing_model_init.to(device)\n",
    "\n",
    "cos_sim, l2_dist = compute_model_similarity(mixing_model_init, mixing_model)\n",
    "\n",
    "print(f\"Cosine Similarity: {cos_sim}\")\n",
    "print(f\"L2 Norm: {l2_dist}\")"
   ]
  },
  {
   "cell_type": "code",
   "execution_count": null,
   "metadata": {},
   "outputs": [],
   "source": [
    "convection_model_init = MLP(m3_layers, activation=\"gelu\")\n",
    "convection_model_init.load_state_dict(m3_checkpoint)\n",
    "convection_model_init = convection_model_init.to(device)\n",
    "\n",
    "cos_sim, l2_dist = compute_model_similarity(convection_model_init, convection_model)\n",
    "\n",
    "print(f\"Cosine Similarity: {cos_sim}\")\n",
    "print(f\"L2 Norm: {l2_dist}\")"
   ]
  },
  {
   "cell_type": "code",
   "execution_count": null,
   "metadata": {},
   "outputs": [],
   "source": [
    "ice_model_init = MLP(m4_layers, activation=\"gelu\")\n",
    "ice_model_init.load_state_dict(m4_checkpoint)\n",
    "ice_model_init = ice_model_init.to(device)\n",
    "\n",
    "cos_sim, l2_dist = compute_model_similarity(ice_model_init, ice_model)\n",
    "\n",
    "print(f\"Cosine Similarity: {cos_sim}\")\n",
    "print(f\"L2 Norm: {l2_dist}\")"
   ]
  },
  {
   "cell_type": "code",
   "execution_count": null,
   "metadata": {},
   "outputs": [],
   "source": [
    "# Freeze all models again and compute finetuned diffusivity values"
   ]
  },
  {
   "cell_type": "code",
   "execution_count": null,
   "metadata": {},
   "outputs": [],
   "source": [
    "#freeze_model(heating_model)\n",
    "freeze_model(mixing_model)\n",
    "freeze_model(convection_model)\n",
    "freeze_model(ice_model)\n",
    "freeze_model(heat_diff_model)\n",
    "freeze_model(heating_model)"
   ]
  },
  {
   "cell_type": "code",
   "execution_count": null,
   "metadata": {},
   "outputs": [],
   "source": [
    "heating_model.train()\n",
    "heat_diff_model.train()\n",
    "mixing_model.train()\n",
    "convection_model.train()\n",
    "ice_model.train()\n",
    "\n",
    "n_epochs = 500\n",
    "\n",
    "# mean and standard dev of \"temp_total04\" of model 4 output\n",
    "mean_out4 = torch.tensor(train_mean[m4_output_column_ix[0]]).float().to(device)\n",
    "std_out4 = torch.tensor(train_std[m4_output_column_ix[0]]).float().to(device)\n",
    "\n",
    "mean_obs = torch.tensor(train_mean[obs_temp_columns_ix[0]]).float().to(device)\n",
    "std_obs = torch.tensor(train_std[obs_temp_columns_ix[0]]).float().to(device)\n",
    "\n",
    "# mean and standard dev of \"input_temp\" of model 1 input\n",
    "m1_mean = torch.tensor(train_mean[m1_input_column_ix[-1]]).float().to(device)\n",
    "m1_std = torch.tensor(train_std[m1_input_column_ix[-1]]).float().to(device)\n",
    "\n",
    "train_loss = []\n",
    "LOSS_m0 = []\n",
    "LOSS_m1 = []\n",
    "LOSS_m2 = []\n",
    "LOSS_m3 = []\n",
    "LOSS_m4 = []\n",
    "\n",
    "diffusivity = []\n",
    "\n",
    "for ix, x in enumerate(iter(train_loader)):\n",
    "    x = x.to(device).float()\n",
    "    optimizer.zero_grad()\n",
    "        \n",
    "      #  m1_input = x[:, m1_input_column_ix]\n",
    "    m0_input = x[:, m0_input_column_ix]\n",
    "        \n",
    "        #model 0\n",
    "    m0_pred = heating_model(m0_input) #predicts diff and temp\n",
    "    loss_m0 = criterion(m0_pred, x[:, m0_output_column_ix])\n",
    "\n",
    "        #model 1\n",
    "    m1_input = torch.cat([x[:, m1_input_column_ix[:-1]], m0_pred], dim=-1)\n",
    "        # m1_pred = heat_diff_model(m1_input)\n",
    "        \n",
    "    proj = heat_diff_model(m1_input)\n",
    "    pred = implicit_diffusion(proj, m0_pred)        \n",
    "    m1_pred = pred.to(dtype=torch.float32)\n",
    "    \n",
    "\n",
    "                \n",
    "    loss_m1 = criterion(m1_pred, x[:, m1_output_column_ix])\n",
    "        \n",
    "    diffusivity.append(proj)\n",
    "\n",
    "    \n",
    "\n",
    "diffusivity_ = torch.cat(diffusivity, dim=0) \n",
    "    \n",
    "        \n",
    "\n",
    "\n",
    "#diffusivity_ = diffusivity_.flatten().detach().cpu().numpy()\n",
    "#print(diffusivity_.shape)\n",
    "    \n",
    "#diffusivity_ = np.reshape(diffusivity_, (diffusivity_.shape[0]//depth_steps, depth_steps))\n",
    "\n",
    "#print(diffusivity_.shape)"
   ]
  },
  {
   "cell_type": "code",
   "execution_count": null,
   "metadata": {},
   "outputs": [],
   "source": [
    "torch.save(diffusivity, 'diffusivity.t')\n",
    "\n",
    "\n",
    "diffusivity_ = torch.cat(diffusivity, dim=0) \n",
    "diffusivity_ = diffusivity_.flatten().detach().cpu().numpy()\n",
    "print(diffusivity_.shape)\n",
    "\n",
    "#print(train_data.shape)\n",
    "#print(data_df.shape)\n",
    "\n",
    "diff_input_columns = [ 'diffusivity']\n",
    "\n",
    "diff_input_column_ix = [data_df.columns.get_loc(column) for column in diff_input_columns]\n",
    "\n",
    "#print(diff_input_column_ix)\n",
    "\n",
    "mean_diff = torch.tensor(input_mean[m1_input_column_ix[13]]).to(device)\n",
    "std_diff = torch.tensor(input_std[m1_input_column_ix[13]]).to(device)\n",
    "\n",
    "diff_train = train_data[:, diff_input_column_ix]\n",
    "\n",
    "#print(std_diff)\n",
    "#print(mean_diff)\n",
    "\n",
    "diff_dl = diffusivity_ * 1.0687e-05 + 1.9475e-05\n",
    "diff_pb = diff_train * 1.0687e-05 + 1.9475e-05\n",
    "\n",
    "#plt.scatter(diffusivity_ , train_data[:, diff_input_column_ix])\n",
    "plt.scatter(diff_dl, diff_pb)\n",
    "\n",
    "print(max(diff_dl))\n",
    "print(min(diff_dl))\n",
    "\n",
    "print(max(diff_pb))\n",
    "print(min(diff_pb))\n",
    "\n",
    "print(len(diffusivity))\n",
    "print(train_data.shape)\n",
    "print(diffusivity_.shape)\n",
    "\n",
    "\n",
    "\n",
    "depth_input_columns = ['depth']\n",
    "depth_input_column_ix = [data_df.columns.get_loc(column) for column in depth_input_columns]\n",
    "\n",
    "print(depth_input_column_ix)\n",
    "\n",
    "depth_df = train_data[:, depth_input_column_ix]\n",
    "print(depth_df.shape)\n",
    "\n",
    "test = pd.DataFrame(data={'depth':list(depth_df),\n",
    "                  'diffusivity_finetuned':diffusivity_[:,]})\n",
    "print(test['depth'][0])\n",
    "test['depth'] = test['depth'].astype(float)  \n",
    "\n",
    "print(test.head)\n",
    "print(test.info())\n",
    "\n",
    "#X = train_data.merge(test, how='inner', on=['depth'])\n",
    "diff_df = test.iloc[:, 1].to_numpy()\n",
    "\n",
    "print(diff_df[:,].shape)\n",
    "print(train_data[:,].shape)\n",
    "\n",
    "df = pd.DataFrame(diffusivity) \n",
    "print(len(diffusivity))\n",
    "print(df.shape)\n",
    "#print(diffusivity.info())\n",
    "# saving the dataframe \n",
    "df.to_csv('finetuned_diff.csv') \n",
    "\n",
    "df2 = pd.DataFrame(diffusivity_) \n",
    "#print(diffusivity.info())\n",
    "# saving the dataframe \n",
    "df2.to_csv('finetuned_diff_.csv') \n",
    "\n",
    "test_ = torch.cat(diffusivity, dim=0) \n",
    "test_ = test_.flatten().detach().cpu().numpy()\n",
    "print(test_.shape)\n",
    "\n",
    "def shape(lst):\n",
    "    length = len(lst)\n",
    "    shp = tuple(shape(sub) if isinstance(sub, list) else 0 for sub in lst)\n",
    "    if any(x != 0 for x in shp):\n",
    "        return length, shp\n",
    "    else:\n",
    "        return length\n",
    "    \n",
    "print(shape(diffusivity))\n",
    "\n",
    "print(len(diffusivity[1]))\n",
    "\n",
    "print(torch.is_tensor(diffusivity))\n",
    "\n",
    "print(84925/25)"
   ]
  },
  {
   "cell_type": "code",
   "execution_count": null,
   "metadata": {},
   "outputs": [],
   "source": [
    "# Unfreeze diffusion model and finetune it on projected diffusivities"
   ]
  },
  {
   "cell_type": "code",
   "execution_count": null,
   "metadata": {},
   "outputs": [],
   "source": []
  }
 ],
 "metadata": {
  "kernelspec": {
   "display_name": "Python 3",
   "language": "python",
   "name": "python3"
  },
  "language_info": {
   "codemirror_mode": {
    "name": "ipython",
    "version": 3
   },
   "file_extension": ".py",
   "mimetype": "text/x-python",
   "name": "python",
   "nbconvert_exporter": "python",
   "pygments_lexer": "ipython3",
   "version": "3.7.10"
  }
 },
 "nbformat": 4,
 "nbformat_minor": 4
}
